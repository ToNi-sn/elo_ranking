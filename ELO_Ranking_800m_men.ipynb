{
 "cells": [
  {
   "cell_type": "code",
   "execution_count": 9,
   "metadata": {},
   "outputs": [],
   "source": [
    "import pandas as pd\n",
    "from multielo import MultiElo, Player, Tracker\n",
    "import altair as alt"
   ]
  },
  {
   "cell_type": "code",
   "execution_count": 10,
   "metadata": {},
   "outputs": [],
   "source": [
    "df_competition = pd.read_excel(\"Data/DL_competitions.xlsx\")\n",
    "df_competitors = pd.read_csv(\"Data/800-metres_men_withoutPB.csv\")\n",
    "df_competitors.dropna(how='all', inplace=True)\n",
    "df_competitors = df_competitors[df_competitors[\"Position in the competition\"].str.contains(\"f\") == False]\n",
    "df_competitors = df_competitors[df_competitors[\"Position in the competition\"].str.contains(\"h\") == False]"
   ]
  },
  {
   "cell_type": "code",
   "execution_count": 11,
   "metadata": {},
   "outputs": [
    {
     "name": "stderr",
     "output_type": "stream",
     "text": [
      "/Users/toni/opt/anaconda3/lib/python3.9/site-packages/pandas/core/generic.py:5516: SettingWithCopyWarning: \n",
      "A value is trying to be set on a copy of a slice from a DataFrame.\n",
      "Try using .loc[row_indexer,col_indexer] = value instead\n",
      "\n",
      "See the caveats in the documentation: https://pandas.pydata.org/pandas-docs/stable/user_guide/indexing.html#returning-a-view-versus-a-copy\n",
      "  self[name] = value\n"
     ]
    },
    {
     "data": {
      "text/html": [
       "<div>\n",
       "<style scoped>\n",
       "    .dataframe tbody tr th:only-of-type {\n",
       "        vertical-align: middle;\n",
       "    }\n",
       "\n",
       "    .dataframe tbody tr th {\n",
       "        vertical-align: top;\n",
       "    }\n",
       "\n",
       "    .dataframe thead th {\n",
       "        text-align: right;\n",
       "    }\n",
       "</style>\n",
       "<table border=\"1\" class=\"dataframe\">\n",
       "  <thead>\n",
       "    <tr style=\"text-align: right;\">\n",
       "      <th></th>\n",
       "      <th>rank</th>\n",
       "      <th>player_id</th>\n",
       "      <th>n_games</th>\n",
       "      <th>rating</th>\n",
       "    </tr>\n",
       "  </thead>\n",
       "  <tbody>\n",
       "    <tr>\n",
       "      <th>0</th>\n",
       "      <td>1</td>\n",
       "      <td>Nijel AMOS</td>\n",
       "      <td>28</td>\n",
       "      <td>1303.179209</td>\n",
       "    </tr>\n",
       "    <tr>\n",
       "      <th>1</th>\n",
       "      <td>2</td>\n",
       "      <td>David RUDISHA</td>\n",
       "      <td>21</td>\n",
       "      <td>1203.666081</td>\n",
       "    </tr>\n",
       "    <tr>\n",
       "      <th>2</th>\n",
       "      <td>3</td>\n",
       "      <td>Emmanuel Kipkurui KORIR</td>\n",
       "      <td>20</td>\n",
       "      <td>1185.504963</td>\n",
       "    </tr>\n",
       "    <tr>\n",
       "      <th>3</th>\n",
       "      <td>4</td>\n",
       "      <td>Donavan BRAZIER</td>\n",
       "      <td>8</td>\n",
       "      <td>1166.518108</td>\n",
       "    </tr>\n",
       "    <tr>\n",
       "      <th>4</th>\n",
       "      <td>5</td>\n",
       "      <td>Ferguson Cheruiyot ROTICH</td>\n",
       "      <td>43</td>\n",
       "      <td>1158.920022</td>\n",
       "    </tr>\n",
       "    <tr>\n",
       "      <th>...</th>\n",
       "      <td>...</td>\n",
       "      <td>...</td>\n",
       "      <td>...</td>\n",
       "      <td>...</td>\n",
       "    </tr>\n",
       "    <tr>\n",
       "      <th>204</th>\n",
       "      <td>205</td>\n",
       "      <td>Richard KIPLAGAT</td>\n",
       "      <td>7</td>\n",
       "      <td>928.480919</td>\n",
       "    </tr>\n",
       "    <tr>\n",
       "      <th>205</th>\n",
       "      <td>206</td>\n",
       "      <td>Timothy KITUM</td>\n",
       "      <td>12</td>\n",
       "      <td>926.314266</td>\n",
       "    </tr>\n",
       "    <tr>\n",
       "      <th>206</th>\n",
       "      <td>207</td>\n",
       "      <td>Andreas KRAMER</td>\n",
       "      <td>12</td>\n",
       "      <td>915.888468</td>\n",
       "    </tr>\n",
       "    <tr>\n",
       "      <th>207</th>\n",
       "      <td>208</td>\n",
       "      <td>Andrew OSAGIE</td>\n",
       "      <td>16</td>\n",
       "      <td>915.571752</td>\n",
       "    </tr>\n",
       "    <tr>\n",
       "      <th>208</th>\n",
       "      <td>209</td>\n",
       "      <td>Erik SOWINSKI</td>\n",
       "      <td>20</td>\n",
       "      <td>855.934917</td>\n",
       "    </tr>\n",
       "  </tbody>\n",
       "</table>\n",
       "<p>209 rows × 4 columns</p>\n",
       "</div>"
      ],
      "text/plain": [
       "     rank                  player_id  n_games       rating\n",
       "0       1                 Nijel AMOS       28  1303.179209\n",
       "1       2              David RUDISHA       21  1203.666081\n",
       "2       3    Emmanuel Kipkurui KORIR       20  1185.504963\n",
       "3       4            Donavan BRAZIER        8  1166.518108\n",
       "4       5  Ferguson Cheruiyot ROTICH       43  1158.920022\n",
       "..    ...                        ...      ...          ...\n",
       "204   205           Richard KIPLAGAT        7   928.480919\n",
       "205   206              Timothy KITUM       12   926.314266\n",
       "206   207             Andreas KRAMER       12   915.888468\n",
       "207   208              Andrew OSAGIE       16   915.571752\n",
       "208   209              Erik SOWINSKI       20   855.934917\n",
       "\n",
       "[209 rows x 4 columns]"
      ]
     },
     "execution_count": 11,
     "metadata": {},
     "output_type": "execute_result"
    }
   ],
   "source": [
    "#Create a flag where the date need to be cleaned\n",
    "df_competition['two_dates'] = df_competition.Date.str[2] == '–'\n",
    "\n",
    "#Sub dataframe with a copy of the date to be cleaned\n",
    "df_duplicate = df_competition[df_competition['two_dates'] == True]\n",
    "\n",
    "#Cleaning date in the 1st dataframe by keeping the first date\n",
    "df_competition.loc[df_competition.two_dates==True, 'Date'] = df_competition.loc[df_competition.two_dates==True, 'Date'].str[3:]\n",
    "\n",
    "#Cleaning date in the 2nd dataframe by keeping the second date\n",
    "df_duplicate.Date = df_duplicate.Date.str[0:2] + ' ' + df_duplicate.Date.str[6:]\n",
    "\n",
    "#Agrregating results\n",
    "df_competition_clean = df_competition.append([df_duplicate],ignore_index=True)\n",
    "\n",
    "#Merging competion and results based on the date and the place of the competion\n",
    "df = pd.merge(df_competition_clean, df_competitors, how='inner', left_on=['Date', 'Venue'], right_on=['Date','Place of the competition'])\n",
    "\n",
    "#Pivoting table to have Position in the competition as columns and some cleaning\n",
    "df_pivoted = df.pivot_table(index=['Date', 'Name', 'Country'], columns='Position in the competition', values='Competitor', aggfunc=lambda x: ' '.join(x))\n",
    "df_pivoted.reset_index(level=['Date', 'Name', 'Country'], inplace=True)\n",
    "df_pivoted.rename(columns = {'Date':'date'}, inplace = True)\n",
    "df_pivoted = df_pivoted[df_pivoted['2'].notna()] #to be sure there is at least two finishers in the competion else the elo score can not be computed\n",
    "df_pivoted.date = pd.to_datetime(df_pivoted.date)\n",
    "\n",
    "#preparing dataframe tracker to use multielo package (keeping columns of interest and replacing NA by None)\n",
    "#Careful here I only pick the first 10th finishers of a race \n",
    "df_tracker = df_pivoted[['date','1', '2', '3', '4', '5', '6', '7', '8', '9', '10', '11']]\n",
    "df_tracker = df_tracker.where(pd.notnull(df_pivoted), None)\n",
    "\n",
    "#USing Multielo package to get rankings (maybe the score function need to be optimised -> see documentation)\n",
    "tracker = Tracker(elo_rater=MultiElo(score_function_base=1))\n",
    "tracker.process_data(df_tracker)\n",
    "tracker.get_current_ratings()"
   ]
  },
  {
   "cell_type": "code",
   "execution_count": 12,
   "metadata": {},
   "outputs": [
    {
     "data": {
      "application/vnd.vegalite.v4+json": {
       "$schema": "https://vega.github.io/schema/vega-lite/v4.17.0.json",
       "config": {
        "axis": {
         "grid": false
        },
        "view": {
         "continuousHeight": 300,
         "continuousWidth": 400,
         "strokeWidth": 0
        }
       },
       "data": {
        "name": "data-a331c7fb2ed002c491d3c6d09314e110"
       },
       "datasets": {
        "data-a331c7fb2ed002c491d3c6d09314e110": [
         {
          "date": "2010-05-14T00:00:00",
          "player_id": "David RUDISHA",
          "rating": 1028
         },
         {
          "date": "2010-06-04T00:00:00",
          "player_id": "David RUDISHA",
          "rating": 1053.066488910802
         },
         {
          "date": "2010-07-08T00:00:00",
          "player_id": "David RUDISHA",
          "rating": 1077.3705143356926
         },
         {
          "date": "2010-08-27T00:00:00",
          "player_id": "David RUDISHA",
          "rating": 1101.2795935900333
         },
         {
          "date": "2011-06-30T00:00:00",
          "player_id": "David RUDISHA",
          "rating": 1122.2981916909607
         },
         {
          "date": "2011-07-22T00:00:00",
          "player_id": "David RUDISHA",
          "rating": 1142.2424666124502
         },
         {
          "date": "2011-08-05T00:00:00",
          "player_id": "David RUDISHA",
          "rating": 1160.8077169460657
         },
         {
          "date": "2012-06-09T00:00:00",
          "player_id": "David RUDISHA",
          "rating": 1176.4834554645731
         },
         {
          "date": "2012-07-06T00:00:00",
          "player_id": "David RUDISHA",
          "rating": 1190.6525319357763
         },
         {
          "date": "2012-08-30T00:00:00",
          "player_id": "David RUDISHA",
          "rating": 1197.7188829924119
         },
         {
          "date": "2013-05-25T00:00:00",
          "player_id": "David RUDISHA",
          "rating": 1210.8389377642134
         },
         {
          "date": "2014-07-12T00:00:00",
          "player_id": "David RUDISHA",
          "rating": 1223.2365786748821
         },
         {
          "date": "2014-07-18T00:00:00",
          "player_id": "David RUDISHA",
          "rating": 1210.6375958293074
         },
         {
          "date": "2014-08-28T00:00:00",
          "player_id": "David RUDISHA",
          "rating": 1215.4159681581787
         },
         {
          "date": "2015-06-13T00:00:00",
          "player_id": "David RUDISHA",
          "rating": 1228.4088068947801
         },
         {
          "date": "2015-07-09T00:00:00",
          "player_id": "David RUDISHA",
          "rating": 1236.9512421959619
         },
         {
          "date": "2015-07-25T00:00:00",
          "player_id": "David RUDISHA",
          "rating": 1243.6039007221696
         },
         {
          "date": "2015-09-03T00:00:00",
          "player_id": "David RUDISHA",
          "rating": 1235.5311484707772
         },
         {
          "date": "2016-05-14T00:00:00",
          "player_id": "David RUDISHA",
          "rating": 1218.6154458321446
         },
         {
          "date": "2016-06-16T00:00:00",
          "player_id": "David RUDISHA",
          "rating": 1209.0224657718425
         },
         {
          "date": "2017-05-13T00:00:00",
          "player_id": "David RUDISHA",
          "rating": 1203.6660806974926
         },
         {
          "date": "2010-05-14T00:00:00",
          "player_id": "Asbel KIPROP",
          "rating": 1020
         },
         {
          "date": "2010-06-12T00:00:00",
          "player_id": "Asbel KIPROP",
          "rating": 1006.333564377484
         },
         {
          "date": "2011-05-06T00:00:00",
          "player_id": "Asbel KIPROP",
          "rating": 1032.6572544326286
         },
         {
          "date": "2011-05-26T00:00:00",
          "player_id": "Asbel KIPROP",
          "rating": 1044.9257088171516
         },
         {
          "date": "2011-07-22T00:00:00",
          "player_id": "Asbel KIPROP",
          "rating": 1063.7045257853558
         },
         {
          "date": "2012-05-19T00:00:00",
          "player_id": "Asbel KIPROP",
          "rating": 1031.12978878035
         },
         {
          "date": "2013-06-06T00:00:00",
          "player_id": "Asbel KIPROP",
          "rating": 1011.9943012800977
         },
         {
          "date": "2014-07-05T00:00:00",
          "player_id": "Asbel KIPROP",
          "rating": 1043.287849279093
         },
         {
          "date": "2014-08-28T00:00:00",
          "player_id": "Asbel KIPROP",
          "rating": 1015.5973490452557
         },
         {
          "date": "2015-05-15T00:00:00",
          "player_id": "Asbel KIPROP",
          "rating": 1016.2965502925538
         },
         {
          "date": "2017-07-09T00:00:00",
          "player_id": "Asbel KIPROP",
          "rating": 1033.428764767485
         },
         {
          "date": "2017-08-20T00:00:00",
          "player_id": "Asbel KIPROP",
          "rating": 1018.7590305267497
         },
         {
          "date": "2010-05-14T00:00:00",
          "player_id": "Amine LAALOU",
          "rating": 1012
         },
         {
          "date": "2011-06-30T00:00:00",
          "player_id": "Amine LAALOU",
          "rating": 1024.963291762271
         },
         {
          "date": "2011-07-10T00:00:00",
          "player_id": "Amine LAALOU",
          "rating": 1036.6340463520414
         },
         {
          "date": "2010-05-14T00:00:00",
          "player_id": "Mbulaeni MULAUDZI",
          "rating": 1004
         },
         {
          "date": "2010-06-12T00:00:00",
          "player_id": "Mbulaeni MULAUDZI",
          "rating": 1031.8049996510479
         },
         {
          "date": "2010-07-08T00:00:00",
          "player_id": "Mbulaeni MULAUDZI",
          "rating": 1050.9294705095745
         },
         {
          "date": "2010-07-16T00:00:00",
          "player_id": "Mbulaeni MULAUDZI",
          "rating": 1067.9503303876286
         },
         {
          "date": "2010-07-22T00:00:00",
          "player_id": "Mbulaeni MULAUDZI",
          "rating": 1078.8551453717218
         },
         {
          "date": "2011-05-26T00:00:00",
          "player_id": "Mbulaeni MULAUDZI",
          "rating": 1094.0922750379718
         },
         {
          "date": "2011-06-30T00:00:00",
          "player_id": "Mbulaeni MULAUDZI",
          "rating": 1059.7316750516145
         },
         {
          "date": "2013-05-25T00:00:00",
          "player_id": "Mbulaeni MULAUDZI",
          "rating": 1052.0366572121056
         },
         {
          "date": "2010-05-14T00:00:00",
          "player_id": "Yeimer LÓPEZ",
          "rating": 996
         },
         {
          "date": "2014-07-05T00:00:00",
          "player_id": "Yeimer LÓPEZ",
          "rating": 1017.0962847521946
         },
         {
          "date": "2016-06-09T00:00:00",
          "player_id": "Yeimer LÓPEZ",
          "rating": 1036.868255699723
         },
         {
          "date": "2010-05-14T00:00:00",
          "player_id": "Michael RIMMER",
          "rating": 988
         },
         {
          "date": "2010-06-04T00:00:00",
          "player_id": "Michael RIMMER",
          "rating": 989.3131360541639
         },
         {
          "date": "2010-07-08T00:00:00",
          "player_id": "Michael RIMMER",
          "rating": 990.9991262534702
         },
         {
          "date": "2010-08-06T00:00:00",
          "player_id": "Michael RIMMER",
          "rating": 1013.8851085703739
         },
         {
          "date": "2010-08-13T00:00:00",
          "player_id": "Michael RIMMER",
          "rating": 997.5923361265657
         },
         {
          "date": "2011-05-06T00:00:00",
          "player_id": "Michael RIMMER",
          "rating": 1014.0501884466298
         },
         {
          "date": "2011-05-26T00:00:00",
          "player_id": "Michael RIMMER",
          "rating": 985.347286433111
         },
         {
          "date": "2011-07-10T00:00:00",
          "player_id": "Michael RIMMER",
          "rating": 968.599023918328
         },
         {
          "date": "2012-08-30T00:00:00",
          "player_id": "Michael RIMMER",
          "rating": 962.6030290701749
         },
         {
          "date": "2013-07-26T00:00:00",
          "player_id": "Michael RIMMER",
          "rating": 954.0037135307343
         },
         {
          "date": "2013-08-29T00:00:00",
          "player_id": "Michael RIMMER",
          "rating": 952.180697407986
         },
         {
          "date": "2014-07-12T00:00:00",
          "player_id": "Michael RIMMER",
          "rating": 971.5036767522085
         },
         {
          "date": "2015-07-25T00:00:00",
          "player_id": "Michael RIMMER",
          "rating": 980.3579628919636
         },
         {
          "date": "2015-07-30T00:00:00",
          "player_id": "Michael RIMMER",
          "rating": 993.8133807400422
         },
         {
          "date": "2016-05-14T00:00:00",
          "player_id": "Michael RIMMER",
          "rating": 967.7491790177517
         },
         {
          "date": "2016-07-15T00:00:00",
          "player_id": "Michael RIMMER",
          "rating": 964.8565413268303
         },
         {
          "date": "2010-05-14T00:00:00",
          "player_id": "Hamza DRIOUCH",
          "rating": 980
         },
         {
          "date": "2010-05-14T00:00:00",
          "player_id": "Musaeb Abdulrahman BALLA",
          "rating": 972
         },
         {
          "date": "2014-05-09T00:00:00",
          "player_id": "Musaeb Abdulrahman BALLA",
          "rating": 968.0691969971767
         },
         {
          "date": "2014-06-05T00:00:00",
          "player_id": "Musaeb Abdulrahman BALLA",
          "rating": 945.9516987249531
         },
         {
          "date": "2015-05-15T00:00:00",
          "player_id": "Musaeb Abdulrahman BALLA",
          "rating": 931.4681674388794
         },
         {
          "date": "2015-07-30T00:00:00",
          "player_id": "Musaeb Abdulrahman BALLA",
          "rating": 963.612613616539
         },
         {
          "date": "2015-09-03T00:00:00",
          "player_id": "Musaeb Abdulrahman BALLA",
          "rating": 964.5381312711954
         },
         {
          "date": "2010-06-04T00:00:00",
          "player_id": "Abubaker KAKI",
          "rating": 1018.4955035784353
         },
         {
          "date": "2010-07-16T00:00:00",
          "player_id": "Abubaker KAKI",
          "rating": 1045.5761047205583
         },
         {
          "date": "2010-07-22T00:00:00",
          "player_id": "Abubaker KAKI",
          "rating": 1071.2982282782523
         },
         {
          "date": "2010-08-13T00:00:00",
          "player_id": "Abubaker KAKI",
          "rating": 1094.5937921270263
         },
         {
          "date": "2010-08-27T00:00:00",
          "player_id": "Abubaker KAKI",
          "rating": 1110.582994810054
         },
         {
          "date": "2011-06-04T00:00:00",
          "player_id": "Abubaker KAKI",
          "rating": 1131.4917030451054
         },
         {
          "date": "2011-07-10T00:00:00",
          "player_id": "Abubaker KAKI",
          "rating": 1149.8233943237692
         },
         {
          "date": "2011-08-05T00:00:00",
          "player_id": "Abubaker KAKI",
          "rating": 1159.7799223147085
         },
         {
          "date": "2012-06-02T00:00:00",
          "player_id": "Abubaker KAKI",
          "rating": 1176.8286937787407
         },
         {
          "date": "2012-07-14T00:00:00",
          "player_id": "Abubaker KAKI",
          "rating": 1172.2379594617405
         },
         {
          "date": "2012-07-20T00:00:00",
          "player_id": "Abubaker KAKI",
          "rating": 1138.0123300434977
         },
         {
          "date": "2014-06-05T00:00:00",
          "player_id": "Abubaker KAKI",
          "rating": 1150.800611873266
         },
         {
          "date": "2014-07-05T00:00:00",
          "player_id": "Abubaker KAKI",
          "rating": 1111.680953169717
         },
         {
          "date": "2014-07-18T00:00:00",
          "player_id": "Abubaker KAKI",
          "rating": 1079.7432101862194
         },
         {
          "date": "2010-06-04T00:00:00",
          "player_id": "Marcin LEWANDOWSKI",
          "rating": 1009.3526464355782
         },
         {
          "date": "2010-07-08T00:00:00",
          "player_id": "Marcin LEWANDOWSKI",
          "rating": 1016.3120482920609
         },
         {
          "date": "2010-08-06T00:00:00",
          "player_id": "Marcin LEWANDOWSKI",
          "rating": 1043.9809166291975
         },
         {
          "date": "2010-08-27T00:00:00",
          "player_id": "Marcin LEWANDOWSKI",
          "rating": 1051.6952455786372
         },
         {
          "date": "2011-05-06T00:00:00",
          "player_id": "Marcin LEWANDOWSKI",
          "rating": 1020.5589790655471
         },
         {
          "date": "2011-06-30T00:00:00",
          "player_id": "Marcin LEWANDOWSKI",
          "rating": 1040.750018641246
         },
         {
          "date": "2011-07-10T00:00:00",
          "player_id": "Marcin LEWANDOWSKI",
          "rating": 1058.9918487635618
         },
         {
          "date": "2012-05-31T00:00:00",
          "player_id": "Marcin LEWANDOWSKI",
          "rating": 1075.9508031066207
         },
         {
          "date": "2012-07-20T00:00:00",
          "player_id": "Marcin LEWANDOWSKI",
          "rating": 1062.6097466371325
         },
         {
          "date": "2013-07-04T00:00:00",
          "player_id": "Marcin LEWANDOWSKI",
          "rating": 1068.3426477096245
         },
         {
          "date": "2013-07-19T00:00:00",
          "player_id": "Marcin LEWANDOWSKI",
          "rating": 1069.5567151642697
         },
         {
          "date": "2013-08-29T00:00:00",
          "player_id": "Marcin LEWANDOWSKI",
          "rating": 1085.7587977422309
         },
         {
          "date": "2014-05-18T00:00:00",
          "player_id": "Marcin LEWANDOWSKI",
          "rating": 1081.2902264915742
         },
         {
          "date": "2014-06-05T00:00:00",
          "player_id": "Marcin LEWANDOWSKI",
          "rating": 1091.8335569096055
         },
         {
          "date": "2014-07-05T00:00:00",
          "player_id": "Marcin LEWANDOWSKI",
          "rating": 1081.0233405480276
         },
         {
          "date": "2014-07-18T00:00:00",
          "player_id": "Marcin LEWANDOWSKI",
          "rating": 1073.0981343536205
         },
         {
          "date": "2014-08-28T00:00:00",
          "player_id": "Marcin LEWANDOWSKI",
          "rating": 1071.8614957959705
         },
         {
          "date": "2015-06-04T00:00:00",
          "player_id": "Marcin LEWANDOWSKI",
          "rating": 1067.9879745675953
         },
         {
          "date": "2015-06-07T00:00:00",
          "player_id": "Marcin LEWANDOWSKI",
          "rating": 1072.4964737341443
         },
         {
          "date": "2015-07-09T00:00:00",
          "player_id": "Marcin LEWANDOWSKI",
          "rating": 1070.318826775768
         },
         {
          "date": "2015-07-17T00:00:00",
          "player_id": "Marcin LEWANDOWSKI",
          "rating": 1068.6430456897883
         },
         {
          "date": "2015-09-03T00:00:00",
          "player_id": "Marcin LEWANDOWSKI",
          "rating": 1067.5461744058973
         },
         {
          "date": "2016-05-22T00:00:00",
          "player_id": "Marcin LEWANDOWSKI",
          "rating": 1061.9826494582198
         },
         {
          "date": "2016-07-15T00:00:00",
          "player_id": "Marcin LEWANDOWSKI",
          "rating": 1071.8667080588878
         },
         {
          "date": "2016-08-27T00:00:00",
          "player_id": "Marcin LEWANDOWSKI",
          "rating": 1060.3688319920827
         },
         {
          "date": "2017-05-13T00:00:00",
          "player_id": "Marcin LEWANDOWSKI",
          "rating": 1046.2672270204487
         },
         {
          "date": "2017-06-08T00:00:00",
          "player_id": "Marcin LEWANDOWSKI",
          "rating": 1047.6669221517755
         },
         {
          "date": "2017-08-20T00:00:00",
          "player_id": "Marcin LEWANDOWSKI",
          "rating": 1060.1885437414496
         },
         {
          "date": "2018-05-12T00:00:00",
          "player_id": "Marcin LEWANDOWSKI",
          "rating": 1070.7427659075258
         },
         {
          "date": "2018-07-20T00:00:00",
          "player_id": "Marcin LEWANDOWSKI",
          "rating": 1047.9290558026892
         },
         {
          "date": "2018-08-18T00:00:00",
          "player_id": "Marcin LEWANDOWSKI",
          "rating": 1050.201684207081
         },
         {
          "date": "2018-08-31T00:00:00",
          "player_id": "Marcin LEWANDOWSKI",
          "rating": 1068.4091813415557
         },
         {
          "date": "2019-05-30T00:00:00",
          "player_id": "Marcin LEWANDOWSKI",
          "rating": 1070.6962560891973
         },
         {
          "date": "2019-06-06T00:00:00",
          "player_id": "Marcin LEWANDOWSKI",
          "rating": 1053.844060844673
         },
         {
          "date": "2019-07-05T00:00:00",
          "player_id": "Marcin LEWANDOWSKI",
          "rating": 1037.3669637989958
         },
         {
          "date": "2019-07-20T00:00:00",
          "player_id": "Marcin LEWANDOWSKI",
          "rating": 1054.4200853618825
         },
         {
          "date": "2010-06-04T00:00:00",
          "player_id": "Alfred Kirwa YEGO",
          "rating": 991.066932149864
         },
         {
          "date": "2010-06-12T00:00:00",
          "player_id": "Alfred Kirwa YEGO",
          "rating": 1004.0622126657235
         },
         {
          "date": "2010-07-08T00:00:00",
          "player_id": "Alfred Kirwa YEGO",
          "rating": 1018.6182723458866
         },
         {
          "date": "2010-08-06T00:00:00",
          "player_id": "Alfred Kirwa YEGO",
          "rating": 1003.4083896033326
         },
         {
          "date": "2010-08-13T00:00:00",
          "player_id": "Alfred Kirwa YEGO",
          "rating": 1000.8766686101342
         },
         {
          "date": "2011-05-06T00:00:00",
          "player_id": "Alfred Kirwa YEGO",
          "rating": 1006.366971588013
         },
         {
          "date": "2011-06-30T00:00:00",
          "player_id": "Alfred Kirwa YEGO",
          "rating": 1003.8379891807969
         },
         {
          "date": "2011-07-22T00:00:00",
          "player_id": "Alfred Kirwa YEGO",
          "rating": 986.3344352303689
         },
         {
          "date": "2012-05-19T00:00:00",
          "player_id": "Alfred Kirwa YEGO",
          "rating": 969.9487961717039
         },
         {
          "date": "2012-06-09T00:00:00",
          "player_id": "Alfred Kirwa YEGO",
          "rating": 992.9854570357196
         },
         {
          "date": "2012-07-06T00:00:00",
          "player_id": "Alfred Kirwa YEGO",
          "rating": 1008.224391882877
         },
         {
          "date": "2010-06-04T00:00:00",
          "player_id": "Bram SOM",
          "rating": 981.9240750070068
         },
         {
          "date": "2010-07-08T00:00:00",
          "player_id": "Bram SOM",
          "rating": 962.9521944541801
         },
         {
          "date": "2010-07-16T00:00:00",
          "player_id": "Bram SOM",
          "rating": 980.8863110031317
         },
         {
          "date": "2010-08-27T00:00:00",
          "player_id": "Bram SOM",
          "rating": 955.9283411566697
         },
         {
          "date": "2011-06-30T00:00:00",
          "player_id": "Bram SOM",
          "rating": 941.8849365358775
         },
         {
          "date": "2011-08-05T00:00:00",
          "player_id": "Bram SOM",
          "rating": 937.7292631703245
         },
         {
          "date": "2010-06-04T00:00:00",
          "player_id": "Adam KSZCZOT",
          "rating": 972.7812178641497
         },
         {
          "date": "2012-06-02T00:00:00",
          "player_id": "Adam KSZCZOT",
          "rating": 980.4854746638338
         },
         {
          "date": "2012-07-14T00:00:00",
          "player_id": "Adam KSZCZOT",
          "rating": 1011.5978384878138
         },
         {
          "date": "2013-06-06T00:00:00",
          "player_id": "Adam KSZCZOT",
          "rating": 1011.7082863267478
         },
         {
          "date": "2013-07-26T00:00:00",
          "player_id": "Adam KSZCZOT",
          "rating": 992.8009539948904
         },
         {
          "date": "2014-07-05T00:00:00",
          "player_id": "Adam KSZCZOT",
          "rating": 985.0926405834163
         },
         {
          "date": "2014-08-28T00:00:00",
          "player_id": "Adam KSZCZOT",
          "rating": 985.7457863604075
         },
         {
          "date": "2015-05-30T00:00:00",
          "player_id": "Adam KSZCZOT",
          "rating": 968.8210590267317
         },
         {
          "date": "2015-06-04T00:00:00",
          "player_id": "Adam KSZCZOT",
          "rating": 985.7493725173792
         },
         {
          "date": "2015-06-07T00:00:00",
          "player_id": "Adam KSZCZOT",
          "rating": 1006.7432054658581
         },
         {
          "date": "2015-07-17T00:00:00",
          "player_id": "Adam KSZCZOT",
          "rating": 1016.5956662632586
         },
         {
          "date": "2015-07-25T00:00:00",
          "player_id": "Adam KSZCZOT",
          "rating": 1034.3784415183059
         },
         {
          "date": "2015-09-03T00:00:00",
          "player_id": "Adam KSZCZOT",
          "rating": 1064.7520579973718
         },
         {
          "date": "2016-05-28T00:00:00",
          "player_id": "Adam KSZCZOT",
          "rating": 1065.034947011088
         },
         {
          "date": "2016-06-16T00:00:00",
          "player_id": "Adam KSZCZOT",
          "rating": 1075.9089076029293
         },
         {
          "date": "2016-07-15T00:00:00",
          "player_id": "Adam KSZCZOT",
          "rating": 1091.662684065678
         },
         {
          "date": "2016-08-27T00:00:00",
          "player_id": "Adam KSZCZOT",
          "rating": 1071.9883064475787
         },
         {
          "date": "2017-05-13T00:00:00",
          "player_id": "Adam KSZCZOT",
          "rating": 1063.9587192043934
         },
         {
          "date": "2017-06-08T00:00:00",
          "player_id": "Adam KSZCZOT",
          "rating": 1089.3645038675206
         },
         {
          "date": "2017-06-18T00:00:00",
          "player_id": "Adam KSZCZOT",
          "rating": 1081.507281029072
         },
         {
          "date": "2017-07-09T00:00:00",
          "player_id": "Adam KSZCZOT",
          "rating": 1075.4471959463756
         },
         {
          "date": "2017-08-20T00:00:00",
          "player_id": "Adam KSZCZOT",
          "rating": 1092.6555773828081
         },
         {
          "date": "2018-05-04T00:00:00",
          "player_id": "Adam KSZCZOT",
          "rating": 1092.7484357288579
         },
         {
          "date": "2018-05-25T00:00:00",
          "player_id": "Adam KSZCZOT",
          "rating": 1077.5974127660234
         },
         {
          "date": "2018-05-31T00:00:00",
          "player_id": "Adam KSZCZOT",
          "rating": 1064.820704644878
         },
         {
          "date": "2018-07-22T00:00:00",
          "player_id": "Adam KSZCZOT",
          "rating": 1060.7513048364535
         },
         {
          "date": "2018-08-18T00:00:00",
          "player_id": "Adam KSZCZOT",
          "rating": 1055.4796012530471
         },
         {
          "date": "2019-05-03T00:00:00",
          "player_id": "Adam KSZCZOT",
          "rating": 1049.40578786126
         },
         {
          "date": "2019-06-06T00:00:00",
          "player_id": "Adam KSZCZOT",
          "rating": 1040.835492594901
         },
         {
          "date": "2019-07-05T00:00:00",
          "player_id": "Adam KSZCZOT",
          "rating": 1019.1199519421477
         },
         {
          "date": "2019-07-12T00:00:00",
          "player_id": "Adam KSZCZOT",
          "rating": 1013.2294929091585
         },
         {
          "date": "2019-07-20T00:00:00",
          "player_id": "Adam KSZCZOT",
          "rating": 1009.1454841177818
         },
         {
          "date": "2010-06-12T00:00:00",
          "player_id": "Nick SYMMONDS",
          "rating": 1020.1732310911217
         },
         {
          "date": "2010-07-16T00:00:00",
          "player_id": "Nick SYMMONDS",
          "rating": 1011.5447439442985
         },
         {
          "date": "2010-07-22T00:00:00",
          "player_id": "Nick SYMMONDS",
          "rating": 1008.3776973692275
         },
         {
          "date": "2010-08-06T00:00:00",
          "player_id": "Nick SYMMONDS",
          "rating": 1008.3321828317297
         },
         {
          "date": "2010-08-13T00:00:00",
          "player_id": "Nick SYMMONDS",
          "rating": 1024.548832710306
         },
         {
          "date": "2011-06-04T00:00:00",
          "player_id": "Nick SYMMONDS",
          "rating": 997.1885792281282
         },
         {
          "date": "2011-07-22T00:00:00",
          "player_id": "Nick SYMMONDS",
          "rating": 1012.2831345151922
         },
         {
          "date": "2011-08-05T00:00:00",
          "player_id": "Nick SYMMONDS",
          "rating": 1018.0475233717829
         },
         {
          "date": "2012-06-02T00:00:00",
          "player_id": "Nick SYMMONDS",
          "rating": 1034.4946311671367
         },
         {
          "date": "2012-07-20T00:00:00",
          "player_id": "Nick SYMMONDS",
          "rating": 1037.6642736440444
         },
         {
          "date": "2013-07-26T00:00:00",
          "player_id": "Nick SYMMONDS",
          "rating": 1062.9409641377074
         },
         {
          "date": "2013-08-29T00:00:00",
          "player_id": "Nick SYMMONDS",
          "rating": 1086.842369101684
         },
         {
          "date": "2010-06-12T00:00:00",
          "player_id": "Khadevis ROBINSON",
          "rating": 1004.1732310911217
         },
         {
          "date": "2011-05-26T00:00:00",
          "player_id": "Khadevis ROBINSON",
          "rating": 1033.2603413058705
         },
         {
          "date": "2011-06-04T00:00:00",
          "player_id": "Khadevis ROBINSON",
          "rating": 1053.1051323734564
         },
         {
          "date": "2011-07-22T00:00:00",
          "player_id": "Khadevis ROBINSON",
          "rating": 1047.1447361007072
         },
         {
          "date": "2012-06-02T00:00:00",
          "player_id": "Khadevis ROBINSON",
          "rating": 1054.5709501144331
         },
         {
          "date": "2010-06-12T00:00:00",
          "player_id": "Karjuan WILLIAMS",
          "rating": 996.1732310911217
         },
         {
          "date": "2010-06-12T00:00:00",
          "player_id": "Jacob HERNANDEZ",
          "rating": 980.1732310911218
         },
         {
          "date": "2010-06-12T00:00:00",
          "player_id": "Gilbert KIPCHOGE",
          "rating": 972.1732310911218
         },
         {
          "date": "2010-07-08T00:00:00",
          "player_id": "Jackson Mumbwa KIVUVA",
          "rating": 993.5954589926339
         },
         {
          "date": "2010-07-16T00:00:00",
          "player_id": "Jackson Mumbwa KIVUVA",
          "rating": 994.5138323607763
         },
         {
          "date": "2010-07-22T00:00:00",
          "player_id": "Jackson Mumbwa KIVUVA",
          "rating": 1005.7071420742146
         },
         {
          "date": "2010-08-06T00:00:00",
          "player_id": "Jackson Mumbwa KIVUVA",
          "rating": 1020.129623372761
         },
         {
          "date": "2010-08-13T00:00:00",
          "player_id": "Jackson Mumbwa KIVUVA",
          "rating": 1022.4641811233462
         },
         {
          "date": "2010-08-27T00:00:00",
          "player_id": "Jackson Mumbwa KIVUVA",
          "rating": 1025.7364531124656
         },
         {
          "date": "2011-06-04T00:00:00",
          "player_id": "Jackson Mumbwa KIVUVA",
          "rating": 1030.267846699728
         },
         {
          "date": "2011-06-30T00:00:00",
          "player_id": "Jackson Mumbwa KIVUVA",
          "rating": 1033.582708714241
         },
         {
          "date": "2012-05-31T00:00:00",
          "player_id": "Jackson Mumbwa KIVUVA",
          "rating": 1010.1772427067932
         },
         {
          "date": "2010-07-08T00:00:00",
          "player_id": "Richard KIPLAGAT",
          "rating": 986.4843478815228
         },
         {
          "date": "2010-07-16T00:00:00",
          "player_id": "Richard KIPLAGAT",
          "rating": 966.7204671597719
         },
         {
          "date": "2011-05-06T00:00:00",
          "player_id": "Richard KIPLAGAT",
          "rating": 964.6621451797942
         },
         {
          "date": "2011-05-26T00:00:00",
          "player_id": "Richard KIPLAGAT",
          "rating": 961.7746400794726
         },
         {
          "date": "2011-06-30T00:00:00",
          "player_id": "Richard KIPLAGAT",
          "rating": 955.219835640428
         },
         {
          "date": "2012-07-06T00:00:00",
          "player_id": "Richard KIPLAGAT",
          "rating": 952.4844704869618
         },
         {
          "date": "2012-07-14T00:00:00",
          "player_id": "Richard KIPLAGAT",
          "rating": 928.4809185691745
         },
         {
          "date": "2010-07-08T00:00:00",
          "player_id": "Luis Alberto MARCO",
          "rating": 972.2621256593006
         },
         {
          "date": "2010-07-16T00:00:00",
          "player_id": "Andrew WHEATING",
          "rating": 1007.4424352733972
         },
         {
          "date": "2010-08-06T00:00:00",
          "player_id": "Andrew WHEATING",
          "rating": 986.1496612906911
         },
         {
          "date": "2010-08-13T00:00:00",
          "player_id": "Andrew WHEATING",
          "rating": 1010.7977534715391
         },
         {
          "date": "2011-06-04T00:00:00",
          "player_id": "Andrew WHEATING",
          "rating": 1008.6904587625226
         },
         {
          "date": "2015-06-13T00:00:00",
          "player_id": "Andrew WHEATING",
          "rating": 981.6423444114421
         },
         {
          "date": "2016-05-28T00:00:00",
          "player_id": "Andrew WHEATING",
          "rating": 957.370430953068
         },
         {
          "date": "2010-07-16T00:00:00",
          "player_id": "Augustine Kiprono CHOGE",
          "rating": 986.109101940064
         },
         {
          "date": "2010-07-16T00:00:00",
          "player_id": "Hamid OUALICH",
          "rating": 971.8868797178417
         },
         {
          "date": "2012-07-06T00:00:00",
          "player_id": "Hamid OUALICH",
          "rating": 960.5644987190378
         },
         {
          "date": "2010-07-22T00:00:00",
          "player_id": "Boaz Kiplagat LALANG",
          "rating": 1023.4911330533075
         },
         {
          "date": "2010-08-06T00:00:00",
          "player_id": "Boaz Kiplagat LALANG",
          "rating": 1029.1667747534295
         },
         {
          "date": "2010-08-27T00:00:00",
          "player_id": "Boaz Kiplagat LALANG",
          "rating": 1044.628490397262
         },
         {
          "date": "2011-05-26T00:00:00",
          "player_id": "Boaz Kiplagat LALANG",
          "rating": 1048.7003151094473
         },
         {
          "date": "2011-06-04T00:00:00",
          "player_id": "Boaz Kiplagat LALANG",
          "rating": 1059.1373539664994
         },
         {
          "date": "2011-07-22T00:00:00",
          "player_id": "Boaz Kiplagat LALANG",
          "rating": 1044.633104258273
         },
         {
          "date": "2011-08-05T00:00:00",
          "player_id": "Boaz Kiplagat LALANG",
          "rating": 1055.5386343845971
         },
         {
          "date": "2012-06-02T00:00:00",
          "player_id": "Boaz Kiplagat LALANG",
          "rating": 1023.8129753035677
         },
         {
          "date": "2012-06-09T00:00:00",
          "player_id": "Boaz Kiplagat LALANG",
          "rating": 1023.759152993054
         },
         {
          "date": "2012-07-14T00:00:00",
          "player_id": "Boaz Kiplagat LALANG",
          "rating": 1025.3956596490461
         },
         {
          "date": "2010-07-22T00:00:00",
          "player_id": "Abraham KIPLAGAT",
          "rating": 1004.2911330533076
         },
         {
          "date": "2010-08-13T00:00:00",
          "player_id": "Abraham KIPLAGAT",
          "rating": 982.4784573444771
         },
         {
          "date": "2010-07-22T00:00:00",
          "player_id": "David TORRENCE",
          "rating": 991.4911330533075
         },
         {
          "date": "2010-07-22T00:00:00",
          "player_id": "Belal Mansoor ALI",
          "rating": 985.0911330533075
         },
         {
          "date": "2010-08-27T00:00:00",
          "player_id": "Belal Mansoor ALI",
          "rating": 966.1549707580147
         },
         {
          "date": "2010-07-22T00:00:00",
          "player_id": "Brice ETÈS",
          "rating": 978.6911330533076
         },
         {
          "date": "2015-07-17T00:00:00",
          "player_id": "Brice ETÈS",
          "rating": 956.0969475730317
         },
         {
          "date": "2010-07-22T00:00:00",
          "player_id": "Jeff LASTENNET",
          "rating": 972.2911330533076
         },
         {
          "date": "2011-07-22T00:00:00",
          "player_id": "Jeff LASTENNET",
          "rating": 949.6031859729582
         },
         {
          "date": "2010-08-06T00:00:00",
          "player_id": "Leonel MANZANO",
          "rating": 993.6142654716913
         },
         {
          "date": "2015-06-13T00:00:00",
          "player_id": "Leonel MANZANO",
          "rating": 996.3439456886342
         },
         {
          "date": "2010-08-06T00:00:00",
          "player_id": "Yusuf Saad KAMEL",
          "rating": 972.2809321383579
         },
         {
          "date": "2010-08-13T00:00:00",
          "player_id": "Darren ST. CLAIR",
          "rating": 1010.5807684956845
         },
         {
          "date": "2010-08-13T00:00:00",
          "player_id": "Gareth WARBURTON",
          "rating": 991.3807684956846
         },
         {
          "date": "2011-07-10T00:00:00",
          "player_id": "Gareth WARBURTON",
          "rating": 966.0899516921132
         },
         {
          "date": "2011-08-05T00:00:00",
          "player_id": "Gareth WARBURTON",
          "rating": 943.8838453142445
         },
         {
          "date": "2012-06-07T00:00:00",
          "player_id": "Gareth WARBURTON",
          "rating": 973.5830526409782
         },
         {
          "date": "2012-07-14T00:00:00",
          "player_id": "Gareth WARBURTON",
          "rating": 960.5111692396773
         },
         {
          "date": "2013-06-30T00:00:00",
          "player_id": "Gareth WARBURTON",
          "rating": 939.9480217297978
         },
         {
          "date": "2010-08-13T00:00:00",
          "player_id": "Niall BROOKS",
          "rating": 972.1807684956846
         },
         {
          "date": "2010-08-27T00:00:00",
          "player_id": "David Mutinda MUTUA",
          "rating": 998.9158445406649
         },
         {
          "date": "2011-05-26T00:00:00",
          "player_id": "David Mutinda MUTUA",
          "rating": 1000.0378563645493
         },
         {
          "date": "2011-07-22T00:00:00",
          "player_id": "David Mutinda MUTUA",
          "rating": 1006.8763561995447
         },
         {
          "date": "2010-08-27T00:00:00",
          "player_id": "Antonio Manuel REINA",
          "rating": 992.515844540665
         },
         {
          "date": "2011-05-06T00:00:00",
          "player_id": "Antonio Manuel REINA",
          "rating": 977.4385876806451
         },
         {
          "date": "2011-05-26T00:00:00",
          "player_id": "Antonio Manuel REINA",
          "rating": 959.1781047930195
         },
         {
          "date": "2012-05-31T00:00:00",
          "player_id": "Antonio Manuel REINA",
          "rating": 963.8822328461599
         },
         {
          "date": "2012-07-06T00:00:00",
          "player_id": "Antonio Manuel REINA",
          "rating": 988.8259802372836
         },
         {
          "date": "2010-08-27T00:00:00",
          "player_id": "Duane SOLOMON",
          "rating": 986.1158445406649
         },
         {
          "date": "2011-05-26T00:00:00",
          "player_id": "Duane SOLOMON",
          "rating": 974.1802037405395
         },
         {
          "date": "2012-07-20T00:00:00",
          "player_id": "Duane SOLOMON",
          "rating": 995.5307400406765
         },
         {
          "date": "2012-08-30T00:00:00",
          "player_id": "Duane SOLOMON",
          "rating": 1003.1812400008695
         },
         {
          "date": "2013-06-06T00:00:00",
          "player_id": "Duane SOLOMON",
          "rating": 992.4277033099805
         },
         {
          "date": "2013-07-19T00:00:00",
          "player_id": "Duane SOLOMON",
          "rating": 1021.8582711191309
         },
         {
          "date": "2013-07-26T00:00:00",
          "player_id": "Duane SOLOMON",
          "rating": 1042.7514663741088
         },
         {
          "date": "2013-08-29T00:00:00",
          "player_id": "Duane SOLOMON",
          "rating": 1047.1321837416647
         },
         {
          "date": "2014-06-05T00:00:00",
          "player_id": "Duane SOLOMON",
          "rating": 1053.5951194519291
         },
         {
          "date": "2011-06-04T00:00:00",
          "player_id": "Lachlan RENSHAW",
          "rating": 990.8728082221212
         },
         {
          "date": "2012-07-06T00:00:00",
          "player_id": "Lachlan RENSHAW",
          "rating": 999.1896138191187
         },
         {
          "date": "2011-06-04T00:00:00",
          "player_id": "Tyler MULDER",
          "rating": 982.8728082221212
         },
         {
          "date": "2012-06-02T00:00:00",
          "player_id": "Tyler MULDER",
          "rating": 970.480003816899
         },
         {
          "date": "2013-07-19T00:00:00",
          "player_id": "Tyler MULDER",
          "rating": 966.3566504534987
         },
         {
          "date": "2013-07-26T00:00:00",
          "player_id": "Tyler MULDER",
          "rating": 974.8706509820469
         },
         {
          "date": "2014-05-18T00:00:00",
          "player_id": "Tyler MULDER",
          "rating": 954.7672637118444
         },
         {
          "date": "2011-07-10T00:00:00",
          "player_id": "Mukhtar MOHAMMED",
          "rating": 1005.9316011092014
         },
         {
          "date": "2011-08-05T00:00:00",
          "player_id": "Mukhtar MOHAMMED",
          "rating": 988.2558090242399
         },
         {
          "date": "2012-07-14T00:00:00",
          "player_id": "Mukhtar MOHAMMED",
          "rating": 967.4732494849401
         },
         {
          "date": "2013-07-26T00:00:00",
          "player_id": "Mukhtar MOHAMMED",
          "rating": 946.7947123632256
         },
         {
          "date": "2014-07-12T00:00:00",
          "player_id": "Mukhtar MOHAMMED",
          "rating": 938.1386923367484
         },
         {
          "date": "2011-07-10T00:00:00",
          "player_id": "James SHANE",
          "rating": 997.9316011092014
         },
         {
          "date": "2011-07-10T00:00:00",
          "player_id": "Nick WILLIS",
          "rating": 989.9316011092014
         },
         {
          "date": "2011-08-05T00:00:00",
          "player_id": "Andrew OSAGIE",
          "rating": 998.8458745209136
         },
         {
          "date": "2012-05-31T00:00:00",
          "player_id": "Andrew OSAGIE",
          "rating": 1014.1735311610297
         },
         {
          "date": "2012-06-09T00:00:00",
          "player_id": "Andrew OSAGIE",
          "rating": 1024.127674275343
         },
         {
          "date": "2012-07-14T00:00:00",
          "player_id": "Andrew OSAGIE",
          "rating": 1038.5312464375627
         },
         {
          "date": "2012-07-20T00:00:00",
          "player_id": "Andrew OSAGIE",
          "rating": 1022.1377712096821
         },
         {
          "date": "2012-08-30T00:00:00",
          "player_id": "Andrew OSAGIE",
          "rating": 1019.4269049334293
         },
         {
          "date": "2013-05-10T00:00:00",
          "player_id": "Andrew OSAGIE",
          "rating": 996.5692720150178
         },
         {
          "date": "2013-05-25T00:00:00",
          "player_id": "Andrew OSAGIE",
          "rating": 1015.7503631477596
         },
         {
          "date": "2013-06-30T00:00:00",
          "player_id": "Andrew OSAGIE",
          "rating": 1015.8022475996631
         },
         {
          "date": "2013-07-04T00:00:00",
          "player_id": "Andrew OSAGIE",
          "rating": 989.2137532907477
         },
         {
          "date": "2013-08-29T00:00:00",
          "player_id": "Andrew OSAGIE",
          "rating": 977.1217327106858
         },
         {
          "date": "2014-05-09T00:00:00",
          "player_id": "Andrew OSAGIE",
          "rating": 958.5079502588198
         },
         {
          "date": "2014-07-18T00:00:00",
          "player_id": "Andrew OSAGIE",
          "rating": 946.8437976821056
         },
         {
          "date": "2017-07-09T00:00:00",
          "player_id": "Andrew OSAGIE",
          "rating": 935.2061338645105
         },
         {
          "date": "2018-05-12T00:00:00",
          "player_id": "Andrew OSAGIE",
          "rating": 931.4561630668117
         },
         {
          "date": "2018-07-22T00:00:00",
          "player_id": "Andrew OSAGIE",
          "rating": 915.57175200486
         },
         {
          "date": "2012-05-19T00:00:00",
          "player_id": "Leonard Kirwa KOSENCHA",
          "rating": 1028.0777894984485
         },
         {
          "date": "2012-05-31T00:00:00",
          "player_id": "Leonard Kirwa KOSENCHA",
          "rating": 1054.9525612722646
         },
         {
          "date": "2012-07-20T00:00:00",
          "player_id": "Leonard Kirwa KOSENCHA",
          "rating": 1075.4842880054427
         },
         {
          "date": "2012-08-30T00:00:00",
          "player_id": "Leonard Kirwa KOSENCHA",
          "rating": 1084.031810095702
         },
         {
          "date": "2012-05-19T00:00:00",
          "player_id": "Timothy KITUM",
          "rating": 1018.9349323555913
         },
         {
          "date": "2012-05-31T00:00:00",
          "player_id": "Timothy KITUM",
          "rating": 1025.312468292577
         },
         {
          "date": "2012-08-30T00:00:00",
          "player_id": "Timothy KITUM",
          "rating": 1006.3186256007521
         },
         {
          "date": "2013-05-10T00:00:00",
          "player_id": "Timothy KITUM",
          "rating": 977.555672846803
         },
         {
          "date": "2013-05-25T00:00:00",
          "player_id": "Timothy KITUM",
          "rating": 987.7223912854397
         },
         {
          "date": "2013-07-19T00:00:00",
          "player_id": "Timothy KITUM",
          "rating": 974.9165889365328
         },
         {
          "date": "2013-08-29T00:00:00",
          "player_id": "Timothy KITUM",
          "rating": 978.3375736157523
         },
         {
          "date": "2014-08-21T00:00:00",
          "player_id": "Timothy KITUM",
          "rating": 952.5304814379333
         },
         {
          "date": "2014-08-28T00:00:00",
          "player_id": "Timothy KITUM",
          "rating": 938.4487304433566
         },
         {
          "date": "2015-06-04T00:00:00",
          "player_id": "Timothy KITUM",
          "rating": 923.0761405322545
         },
         {
          "date": "2016-05-28T00:00:00",
          "player_id": "Timothy KITUM",
          "rating": 927.8624778972295
         },
         {
          "date": "2016-06-16T00:00:00",
          "player_id": "Timothy KITUM",
          "rating": 926.3142660803919
         },
         {
          "date": "2012-05-19T00:00:00",
          "player_id": "André OLIVIER",
          "rating": 1009.7920752127342
         },
         {
          "date": "2012-07-20T00:00:00",
          "player_id": "André OLIVIER",
          "rating": 1008.7814881047149
         },
         {
          "date": "2013-06-06T00:00:00",
          "player_id": "André OLIVIER",
          "rating": 1026.6049924717051
         },
         {
          "date": "2013-06-30T00:00:00",
          "player_id": "André OLIVIER",
          "rating": 1038.4694420549458
         },
         {
          "date": "2014-05-09T00:00:00",
          "player_id": "André OLIVIER",
          "rating": 1021.4182501422556
         },
         {
          "date": "2014-05-18T00:00:00",
          "player_id": "André OLIVIER",
          "rating": 1035.4722373252162
         },
         {
          "date": "2014-07-05T00:00:00",
          "player_id": "André OLIVIER",
          "rating": 1035.548678582451
         },
         {
          "date": "2014-07-12T00:00:00",
          "player_id": "André OLIVIER",
          "rating": 1054.6504008894628
         },
         {
          "date": "2014-08-28T00:00:00",
          "player_id": "André OLIVIER",
          "rating": 1037.5911372546807
         },
         {
          "date": "2015-05-30T00:00:00",
          "player_id": "André OLIVIER",
          "rating": 1023.1001893119395
         },
         {
          "date": "2012-05-19T00:00:00",
          "player_id": "Andreas BUBE",
          "rating": 1000.649218069877
         },
         {
          "date": "2012-05-31T00:00:00",
          "player_id": "Andreas BUBE",
          "rating": 987.3674648096093
         },
         {
          "date": "2012-07-20T00:00:00",
          "player_id": "Andreas BUBE",
          "rating": 962.7559365040223
         },
         {
          "date": "2014-08-21T00:00:00",
          "player_id": "Andreas BUBE",
          "rating": 954.3607606848625
         },
         {
          "date": "2015-07-30T00:00:00",
          "player_id": "Andreas BUBE",
          "rating": 977.3099018280562
         },
         {
          "date": "2017-06-08T00:00:00",
          "player_id": "Andreas BUBE",
          "rating": 959.3361494401872
         },
         {
          "date": "2018-06-10T00:00:00",
          "player_id": "Andreas BUBE",
          "rating": 943.622808611676
         },
         {
          "date": "2012-05-19T00:00:00",
          "player_id": "Jeffrey RISELEY",
          "rating": 991.5063609270198
         },
         {
          "date": "2016-07-22T00:00:00",
          "player_id": "Jeffrey RISELEY",
          "rating": 995.0216539464411
         },
         {
          "date": "2012-05-31T00:00:00",
          "player_id": "Jakub HOLUŠA",
          "rating": 993.8887529269658
         },
         {
          "date": "2012-05-31T00:00:00",
          "player_id": "Mario SCAPINI",
          "rating": 972.5554195936326
         },
         {
          "date": "2012-06-02T00:00:00",
          "player_id": "Mohammed AMAN",
          "rating": 1024.4730283533638
         },
         {
          "date": "2012-08-30T00:00:00",
          "player_id": "Mohammed AMAN",
          "rating": 1053.5540217068244
         },
         {
          "date": "2013-06-06T00:00:00",
          "player_id": "Mohammed AMAN",
          "rating": 1078.920912132814
         },
         {
          "date": "2013-06-30T00:00:00",
          "player_id": "Mohammed AMAN",
          "rating": 1098.883682072878
         },
         {
          "date": "2013-07-04T00:00:00",
          "player_id": "Mohammed AMAN",
          "rating": 1119.682995017282
         },
         {
          "date": "2014-05-09T00:00:00",
          "player_id": "Mohammed AMAN",
          "rating": 1138.2636302180772
         },
         {
          "date": "2014-06-05T00:00:00",
          "player_id": "Mohammed AMAN",
          "rating": 1158.142184446927
         },
         {
          "date": "2014-07-18T00:00:00",
          "player_id": "Mohammed AMAN",
          "rating": 1164.9146680543881
         },
         {
          "date": "2014-08-28T00:00:00",
          "player_id": "Mohammed AMAN",
          "rating": 1144.1772256836136
         },
         {
          "date": "2015-05-15T00:00:00",
          "player_id": "Mohammed AMAN",
          "rating": 1105.2884269142216
         },
         {
          "date": "2015-05-30T00:00:00",
          "player_id": "Mohammed AMAN",
          "rating": 1127.4052863644044
         },
         {
          "date": "2015-06-04T00:00:00",
          "player_id": "Mohammed AMAN",
          "rating": 1147.8452042881318
         },
         {
          "date": "2015-07-09T00:00:00",
          "player_id": "Mohammed AMAN",
          "rating": 1115.032883406149
         },
         {
          "date": "2015-07-17T00:00:00",
          "player_id": "Mohammed AMAN",
          "rating": 1097.7488177580053
         },
         {
          "date": "2015-09-03T00:00:00",
          "player_id": "Mohammed AMAN",
          "rating": 1108.3218550338274
         },
         {
          "date": "2016-05-28T00:00:00",
          "player_id": "Mohammed AMAN",
          "rating": 1112.8061844456465
         },
         {
          "date": "2016-06-16T00:00:00",
          "player_id": "Mohammed AMAN",
          "rating": 1087.5707046681991
         },
         {
          "date": "2018-05-31T00:00:00",
          "player_id": "Mohammed AMAN",
          "rating": 1061.0971203083852
         },
         {
          "date": "2012-06-02T00:00:00",
          "player_id": "Anthony CHEMUT",
          "rating": 998.8730283533639
         },
         {
          "date": "2012-08-30T00:00:00",
          "player_id": "Anthony CHEMUT",
          "rating": 974.2283657090466
         },
         {
          "date": "2012-06-02T00:00:00",
          "player_id": "Job KINYOR",
          "rating": 992.4730283533638
         },
         {
          "date": "2012-07-14T00:00:00",
          "player_id": "Job KINYOR",
          "rating": 1016.1127559623624
         },
         {
          "date": "2013-06-06T00:00:00",
          "player_id": "Job KINYOR",
          "rating": 1021.6269483828818
         },
         {
          "date": "2013-07-26T00:00:00",
          "player_id": "Job KINYOR",
          "rating": 1030.904862452233
         },
         {
          "date": "2013-08-29T00:00:00",
          "player_id": "Job KINYOR",
          "rating": 1007.9136938330087
         },
         {
          "date": "2014-05-09T00:00:00",
          "player_id": "Job KINYOR",
          "rating": 1014.9581984499177
         },
         {
          "date": "2014-06-05T00:00:00",
          "player_id": "Job KINYOR",
          "rating": 1017.1773268205656
         },
         {
          "date": "2014-07-12T00:00:00",
          "player_id": "Job KINYOR",
          "rating": 988.1193607276166
         },
         {
          "date": "2015-05-15T00:00:00",
          "player_id": "Job KINYOR",
          "rating": 984.1647327047639
         },
         {
          "date": "2015-05-30T00:00:00",
          "player_id": "Job KINYOR",
          "rating": 988.7140711581906
         },
         {
          "date": "2015-06-04T00:00:00",
          "player_id": "Job KINYOR",
          "rating": 1009.7112198466548
         },
         {
          "date": "2015-06-07T00:00:00",
          "player_id": "Job KINYOR",
          "rating": 1010.2737400145177
         },
         {
          "date": "2015-07-09T00:00:00",
          "player_id": "Job KINYOR",
          "rating": 1005.4953471114868
         },
         {
          "date": "2015-09-03T00:00:00",
          "player_id": "Job KINYOR",
          "rating": 995.7344215274255
         },
         {
          "date": "2017-07-01T00:00:00",
          "player_id": "Job KINYOR",
          "rating": 997.0423524627028
         },
         {
          "date": "2012-06-02T00:00:00",
          "player_id": "Yuriy BORZAKOVSKIY",
          "rating": 979.6730283533639
         },
         {
          "date": "2012-06-07T00:00:00",
          "player_id": "Guy LEARMONTH",
          "rating": 1011.7751981683166
         },
         {
          "date": "2017-07-09T00:00:00",
          "player_id": "Guy LEARMONTH",
          "rating": 988.5834665503234
         },
         {
          "date": "2017-08-20T00:00:00",
          "player_id": "Guy LEARMONTH",
          "rating": 970.7469923005326
         },
         {
          "date": "2018-07-22T00:00:00",
          "player_id": "Guy LEARMONTH",
          "rating": 968.9938840632594
         },
         {
          "date": "2019-06-16T00:00:00",
          "player_id": "Guy LEARMONTH",
          "rating": 947.8686518274402
         },
         {
          "date": "2019-07-05T00:00:00",
          "player_id": "Guy LEARMONTH",
          "rating": 927.8367341884385
         },
         {
          "date": "2019-08-18T00:00:00",
          "player_id": "Guy LEARMONTH",
          "rating": 934.7539623253351
         },
         {
          "date": "2012-06-07T00:00:00",
          "player_id": "Johan SVENSSON",
          "rating": 998.9751981683165
         },
         {
          "date": "2012-06-07T00:00:00",
          "player_id": "Ådne SVAHN DÆHLIN",
          "rating": 986.1751981683166
         },
         {
          "date": "2012-06-07T00:00:00",
          "player_id": "Thomas Arne ROTH",
          "rating": 973.3751981683166
         },
         {
          "date": "2015-07-30T00:00:00",
          "player_id": "Thomas Arne ROTH",
          "rating": 951.9152885320733
         },
         {
          "date": "2018-06-07T00:00:00",
          "player_id": "Thomas Arne ROTH",
          "rating": 970.1156405289638
         },
         {
          "date": "2018-06-10T00:00:00",
          "player_id": "Thomas Arne ROTH",
          "rating": 962.55864023681
         },
         {
          "date": "2019-06-13T00:00:00",
          "player_id": "Thomas Arne ROTH",
          "rating": 956.3554386333655
         },
         {
          "date": "2012-06-09T00:00:00",
          "player_id": "Robby ANDREWS",
          "rating": 992.9386170807495
         },
         {
          "date": "2013-05-25T00:00:00",
          "player_id": "Robby ANDREWS",
          "rating": 969.7699204163865
         },
         {
          "date": "2015-06-13T00:00:00",
          "player_id": "Robby ANDREWS",
          "rating": 967.479718602181
         },
         {
          "date": "2012-06-09T00:00:00",
          "player_id": "Michael RUTT",
          "rating": 983.7957599378924
         },
         {
          "date": "2012-07-14T00:00:00",
          "player_id": "Michael RUTT",
          "rating": 982.6122669287846
         },
         {
          "date": "2013-05-25T00:00:00",
          "player_id": "Michael RUTT",
          "rating": 971.0081170894764
         },
         {
          "date": "2015-06-13T00:00:00",
          "player_id": "Michael RUTT",
          "rating": 954.3878589543345
         },
         {
          "date": "2012-06-09T00:00:00",
          "player_id": "Diomar DE SOUZA",
          "rating": 974.6529027950353
         },
         {
          "date": "2012-07-06T00:00:00",
          "player_id": "Paul RENAUDIE",
          "rating": 1000.3889865411887
         },
         {
          "date": "2012-07-06T00:00:00",
          "player_id": "Elijah GREER",
          "rating": 979.0556532078554
         },
         {
          "date": "2012-07-14T00:00:00",
          "player_id": "Elijah GREER",
          "rating": 971.895705141161
         },
         {
          "date": "2013-07-26T00:00:00",
          "player_id": "Elijah GREER",
          "rating": 944.9959759798757
         },
         {
          "date": "2012-07-06T00:00:00",
          "player_id": "Pierre-Ambroise BOSSE",
          "rating": 971.9445420967443
         },
         {
          "date": "2013-06-06T00:00:00",
          "player_id": "Pierre-Ambroise BOSSE",
          "rating": 998.9506763840537
         },
         {
          "date": "2013-07-04T00:00:00",
          "player_id": "Pierre-Ambroise BOSSE",
          "rating": 1019.6074987194281
         },
         {
          "date": "2013-07-19T00:00:00",
          "player_id": "Pierre-Ambroise BOSSE",
          "rating": 1039.4394061226385
         },
         {
          "date": "2014-07-05T00:00:00",
          "player_id": "Pierre-Ambroise BOSSE",
          "rating": 1050.7924474823883
         },
         {
          "date": "2014-07-18T00:00:00",
          "player_id": "Pierre-Ambroise BOSSE",
          "rating": 1073.9667429027168
         },
         {
          "date": "2014-08-28T00:00:00",
          "player_id": "Pierre-Ambroise BOSSE",
          "rating": 1078.4715581579626
         },
         {
          "date": "2015-05-15T00:00:00",
          "player_id": "Pierre-Ambroise BOSSE",
          "rating": 1080.678801193887
         },
         {
          "date": "2015-06-04T00:00:00",
          "player_id": "Pierre-Ambroise BOSSE",
          "rating": 1070.2111408111637
         },
         {
          "date": "2015-06-13T00:00:00",
          "player_id": "Pierre-Ambroise BOSSE",
          "rating": 1080.4039897013945
         },
         {
          "date": "2015-07-09T00:00:00",
          "player_id": "Pierre-Ambroise BOSSE",
          "rating": 1061.5270041920096
         },
         {
          "date": "2015-07-17T00:00:00",
          "player_id": "Pierre-Ambroise BOSSE",
          "rating": 1037.3696900070468
         },
         {
          "date": "2015-07-25T00:00:00",
          "player_id": "Pierre-Ambroise BOSSE",
          "rating": 1034.1510713354774
         },
         {
          "date": "2016-05-22T00:00:00",
          "player_id": "Pierre-Ambroise BOSSE",
          "rating": 1063.5633820975547
         },
         {
          "date": "2016-06-16T00:00:00",
          "player_id": "Pierre-Ambroise BOSSE",
          "rating": 1082.5652538928555
         },
         {
          "date": "2016-07-22T00:00:00",
          "player_id": "Pierre-Ambroise BOSSE",
          "rating": 1106.4649571220407
         },
         {
          "date": "2016-08-27T00:00:00",
          "player_id": "Pierre-Ambroise BOSSE",
          "rating": 1098.276106413722
         },
         {
          "date": "2016-09-09T00:00:00",
          "player_id": "Pierre-Ambroise BOSSE",
          "rating": 1078.7957975047407
         },
         {
          "date": "2017-07-01T00:00:00",
          "player_id": "Pierre-Ambroise BOSSE",
          "rating": 1066.25011481277
         },
         {
          "date": "2018-06-30T00:00:00",
          "player_id": "Pierre-Ambroise BOSSE",
          "rating": 1055.540887442242
         },
         {
          "date": "2018-07-20T00:00:00",
          "player_id": "Pierre-Ambroise BOSSE",
          "rating": 1048.3034105473962
         },
         {
          "date": "2019-07-12T00:00:00",
          "player_id": "Pierre-Ambroise BOSSE",
          "rating": 1027.0622645981482
         },
         {
          "date": "2019-08-24T00:00:00",
          "player_id": "Pierre-Ambroise BOSSE",
          "rating": 1021.452380450968
         },
         {
          "date": "2022-06-18T00:00:00",
          "player_id": "Pierre-Ambroise BOSSE",
          "rating": 1014.9979308349158
         },
         {
          "date": "2012-07-20T00:00:00",
          "player_id": "Abraham Kipchirchir ROTICH",
          "rating": 1031.8651855094975
         },
         {
          "date": "2013-06-06T00:00:00",
          "player_id": "Abraham Kipchirchir ROTICH",
          "rating": 1006.8442037594373
         },
         {
          "date": "2012-07-20T00:00:00",
          "player_id": "Kevin LÓPEZ",
          "rating": 1012.6651855094974
         },
         {
          "date": "2013-06-06T00:00:00",
          "player_id": "Kevin LÓPEZ",
          "rating": 1006.8594748456552
         },
         {
          "date": "2013-07-19T00:00:00",
          "player_id": "Kevin LÓPEZ",
          "rating": 1020.7465421359815
         },
         {
          "date": "2014-07-05T00:00:00",
          "player_id": "Kevin LÓPEZ",
          "rating": 998.884994205815
         },
         {
          "date": "2015-06-04T00:00:00",
          "player_id": "Kevin LÓPEZ",
          "rating": 972.4335804738116
         },
         {
          "date": "2017-05-05T00:00:00",
          "player_id": "Kevin LÓPEZ",
          "rating": 948.3690683865816
         },
         {
          "date": "2013-05-10T00:00:00",
          "player_id": "David RUDISHA Amine EL MANAOUI",
          "rating": 1028.7077027150992
         },
         {
          "date": "2013-05-10T00:00:00",
          "player_id": "Mohammed AMAN Tyler MULDER",
          "rating": 1021.596591603988
         },
         {
          "date": "2013-05-10T00:00:00",
          "player_id": "Job KINYOR Abraham KIPLAGAT",
          "rating": 1014.485480492877
         },
         {
          "date": "2013-05-10T00:00:00",
          "player_id": "Pierre-Ambroise BOSSE Ismail Ahmed ISMAIL",
          "rating": 1007.3743693817659
         },
         {
          "date": "2013-05-10T00:00:00",
          "player_id": "Musaeb Abdulrahman BALLA Mukhtar MOHAMMED",
          "rating": 1000.2632582706547
         },
         {
          "date": "2013-05-10T00:00:00",
          "player_id": "Michael RIMMER Jamal HAIRANE",
          "rating": 993.1521471595436
         },
         {
          "date": "2013-05-10T00:00:00",
          "player_id": "Anthony CHEMUT Johan ROGESTEDT",
          "rating": 986.0410360484325
         },
         {
          "date": "2013-06-06T00:00:00",
          "player_id": "Giordano BENEDETTI",
          "rating": 1012.8109099962868
         },
         {
          "date": "2014-06-05T00:00:00",
          "player_id": "Giordano BENEDETTI",
          "rating": 993.8873798613234
         },
         {
          "date": "2015-06-04T00:00:00",
          "player_id": "Giordano BENEDETTI",
          "rating": 985.3348600798533
         },
         {
          "date": "2015-07-30T00:00:00",
          "player_id": "Giordano BENEDETTI",
          "rating": 977.0009694568953
         },
         {
          "date": "2018-05-31T00:00:00",
          "player_id": "Giordano BENEDETTI",
          "rating": 954.1088676761746
         },
         {
          "date": "2013-06-06T00:00:00",
          "player_id": "Ilham Tanui ÖZBILEN",
          "rating": 972.083637269014
         },
         {
          "date": "2013-06-30T00:00:00",
          "player_id": "Erik SOWINSKI",
          "rating": 988.6840435346712
         },
         {
          "date": "2014-05-18T00:00:00",
          "player_id": "Erik SOWINSKI",
          "rating": 960.9231712395285
         },
         {
          "date": "2014-06-05T00:00:00",
          "player_id": "Erik SOWINSKI",
          "rating": 960.7505948982707
         },
         {
          "date": "2014-07-12T00:00:00",
          "player_id": "Erik SOWINSKI",
          "rating": 965.1067648070675
         },
         {
          "date": "2015-06-07T00:00:00",
          "player_id": "Erik SOWINSKI",
          "rating": 951.3600915471691
         },
         {
          "date": "2015-07-25T00:00:00",
          "player_id": "Erik SOWINSKI",
          "rating": 942.7041976546418
         },
         {
          "date": "2015-07-30T00:00:00",
          "player_id": "Erik SOWINSKI",
          "rating": 945.3840848831449
         },
         {
          "date": "2016-05-14T00:00:00",
          "player_id": "Erik SOWINSKI",
          "rating": 930.6397969029135
         },
         {
          "date": "2016-07-22T00:00:00",
          "player_id": "Erik SOWINSKI",
          "rating": 925.1514549738198
         },
         {
          "date": "2017-07-09T00:00:00",
          "player_id": "Erik SOWINSKI",
          "rating": 944.4603296226009
         },
         {
          "date": "2017-07-21T00:00:00",
          "player_id": "Erik SOWINSKI",
          "rating": 936.9101881972468
         },
         {
          "date": "2017-08-20T00:00:00",
          "player_id": "Erik SOWINSKI",
          "rating": 916.3857770713778
         },
         {
          "date": "2018-05-25T00:00:00",
          "player_id": "Erik SOWINSKI",
          "rating": 900.0308741766543
         },
         {
          "date": "2018-06-30T00:00:00",
          "player_id": "Erik SOWINSKI",
          "rating": 898.2101924340029
         },
         {
          "date": "2018-07-22T00:00:00",
          "player_id": "Erik SOWINSKI",
          "rating": 879.2075314206165
         },
         {
          "date": "2018-08-18T00:00:00",
          "player_id": "Erik SOWINSKI",
          "rating": 876.4912453446765
         },
         {
          "date": "2019-05-30T00:00:00",
          "player_id": "Erik SOWINSKI",
          "rating": 877.3066775803424
         },
         {
          "date": "2019-08-18T00:00:00",
          "player_id": "Erik SOWINSKI",
          "rating": 882.2491438377674
         },
         {
          "date": "2021-08-31T00:00:00",
          "player_id": "Erik SOWINSKI",
          "rating": 872.8953824374504
         },
         {
          "date": "2022-08-06T00:00:00",
          "player_id": "Erik SOWINSKI",
          "rating": 855.9349165509074
         },
         {
          "date": "2013-07-04T00:00:00",
          "player_id": "Nijel AMOS",
          "rating": 1002.2760097950721
         },
         {
          "date": "2014-05-09T00:00:00",
          "player_id": "Nijel AMOS",
          "rating": 1024.0538945532749
         },
         {
          "date": "2014-07-05T00:00:00",
          "player_id": "Nijel AMOS",
          "rating": 1048.4382527648308
         },
         {
          "date": "2014-07-18T00:00:00",
          "player_id": "Nijel AMOS",
          "rating": 1078.929944779668
         },
         {
          "date": "2014-08-21T00:00:00",
          "player_id": "Nijel AMOS",
          "rating": 1068.0463662966363
         },
         {
          "date": "2014-08-28T00:00:00",
          "player_id": "Nijel AMOS",
          "rating": 1096.3471658789326
         },
         {
          "date": "2015-05-30T00:00:00",
          "player_id": "Nijel AMOS",
          "rating": 1112.136481481178
         },
         {
          "date": "2015-06-04T00:00:00",
          "player_id": "Nijel AMOS",
          "rating": 1128.0415437927215
         },
         {
          "date": "2015-06-07T00:00:00",
          "player_id": "Nijel AMOS",
          "rating": 1145.7322399020898
         },
         {
          "date": "2015-07-09T00:00:00",
          "player_id": "Nijel AMOS",
          "rating": 1169.1029275535866
         },
         {
          "date": "2015-07-17T00:00:00",
          "player_id": "Nijel AMOS",
          "rating": 1182.162552929878
         },
         {
          "date": "2015-07-25T00:00:00",
          "player_id": "Nijel AMOS",
          "rating": 1199.0493306584965
         },
         {
          "date": "2016-05-22T00:00:00",
          "player_id": "Nijel AMOS",
          "rating": 1160.957982517171
         },
         {
          "date": "2016-07-22T00:00:00",
          "player_id": "Nijel AMOS",
          "rating": 1156.9907698187712
         },
         {
          "date": "2017-07-01T00:00:00",
          "player_id": "Nijel AMOS",
          "rating": 1176.0969722163393
         },
         {
          "date": "2017-07-09T00:00:00",
          "player_id": "Nijel AMOS",
          "rating": 1191.5536054502354
         },
         {
          "date": "2017-07-16T00:00:00",
          "player_id": "Nijel AMOS",
          "rating": 1208.0457505554746
         },
         {
          "date": "2017-08-20T00:00:00",
          "player_id": "Nijel AMOS",
          "rating": 1221.847649530091
         },
         {
          "date": "2018-05-25T00:00:00",
          "player_id": "Nijel AMOS",
          "rating": 1228.3342833521078
         },
         {
          "date": "2018-07-20T00:00:00",
          "player_id": "Nijel AMOS",
          "rating": 1242.3949288732915
         },
         {
          "date": "2018-07-22T00:00:00",
          "player_id": "Nijel AMOS",
          "rating": 1236.6518428859415
         },
         {
          "date": "2019-05-03T00:00:00",
          "player_id": "Nijel AMOS",
          "rating": 1250.8127661370727
         },
         {
          "date": "2019-06-06T00:00:00",
          "player_id": "Nijel AMOS",
          "rating": 1257.8528807392229
         },
         {
          "date": "2019-06-16T00:00:00",
          "player_id": "Nijel AMOS",
          "rating": 1270.518161127842
         },
         {
          "date": "2019-07-12T00:00:00",
          "player_id": "Nijel AMOS",
          "rating": 1282.8110644121944
         },
         {
          "date": "2019-08-29T00:00:00",
          "player_id": "Nijel AMOS",
          "rating": 1289.5324034476905
         },
         {
          "date": "2021-07-09T00:00:00",
          "player_id": "Nijel AMOS",
          "rating": 1300.6063647348
         },
         {
          "date": "2022-06-05T00:00:00",
          "player_id": "Nijel AMOS",
          "rating": 1303.1792088305592
         },
         {
          "date": "2013-07-04T00:00:00",
          "player_id": "Brandon JOHNSON",
          "rating": 993.133152652215
         },
         {
          "date": "2013-07-26T00:00:00",
          "player_id": "Brandon JOHNSON",
          "rating": 1010.8361124755266
         },
         {
          "date": "2013-08-29T00:00:00",
          "player_id": "Brandon JOHNSON",
          "rating": 982.5579973176237
         },
         {
          "date": "2014-05-09T00:00:00",
          "player_id": "Brandon JOHNSON",
          "rating": 956.3428725748746
         },
         {
          "date": "2014-05-18T00:00:00",
          "player_id": "Brandon JOHNSON",
          "rating": 950.7146017243629
         },
         {
          "date": "2013-07-04T00:00:00",
          "player_id": "Rafith RODRÍGUEZ",
          "rating": 983.9902955093579
         },
         {
          "date": "2013-07-19T00:00:00",
          "player_id": "Rafith RODRÍGUEZ",
          "rating": 985.747662079077
         },
         {
          "date": "2013-07-19T00:00:00",
          "player_id": "Ferguson Cheruiyot ROTICH",
          "rating": 978.9596451481834
         },
         {
          "date": "2013-08-29T00:00:00",
          "player_id": "Ferguson Cheruiyot ROTICH",
          "rating": 996.2387760394076
         },
         {
          "date": "2014-05-09T00:00:00",
          "player_id": "Ferguson Cheruiyot ROTICH",
          "rating": 1011.4527377985273
         },
         {
          "date": "2014-07-05T00:00:00",
          "player_id": "Ferguson Cheruiyot ROTICH",
          "rating": 1019.5224578202282
         },
         {
          "date": "2014-07-18T00:00:00",
          "player_id": "Ferguson Cheruiyot ROTICH",
          "rating": 1031.1973191750365
         },
         {
          "date": "2014-08-28T00:00:00",
          "player_id": "Ferguson Cheruiyot ROTICH",
          "rating": 1045.3010083998518
         },
         {
          "date": "2015-05-15T00:00:00",
          "player_id": "Ferguson Cheruiyot ROTICH",
          "rating": 1064.6702707273648
         },
         {
          "date": "2015-05-30T00:00:00",
          "player_id": "Ferguson Cheruiyot ROTICH",
          "rating": 1033.5065041649768
         },
         {
          "date": "2015-06-04T00:00:00",
          "player_id": "Ferguson Cheruiyot ROTICH",
          "rating": 1038.8680942083427
         },
         {
          "date": "2015-07-09T00:00:00",
          "player_id": "Ferguson Cheruiyot ROTICH",
          "rating": 1055.6396595925721
         },
         {
          "date": "2015-07-17T00:00:00",
          "player_id": "Ferguson Cheruiyot ROTICH",
          "rating": 1049.467410868333
         },
         {
          "date": "2015-09-03T00:00:00",
          "player_id": "Ferguson Cheruiyot ROTICH",
          "rating": 1028.7308654365681
         },
         {
          "date": "2016-05-14T00:00:00",
          "player_id": "Ferguson Cheruiyot ROTICH",
          "rating": 1056.4737923489538
         },
         {
          "date": "2016-05-28T00:00:00",
          "player_id": "Ferguson Cheruiyot ROTICH",
          "rating": 1073.4937165526967
         },
         {
          "date": "2016-06-16T00:00:00",
          "player_id": "Ferguson Cheruiyot ROTICH",
          "rating": 1099.633302002173
         },
         {
          "date": "2016-07-22T00:00:00",
          "player_id": "Ferguson Cheruiyot ROTICH",
          "rating": 1107.833775587471
         },
         {
          "date": "2016-08-27T00:00:00",
          "player_id": "Ferguson Cheruiyot ROTICH",
          "rating": 1112.3241487160983
         },
         {
          "date": "2017-05-13T00:00:00",
          "player_id": "Ferguson Cheruiyot ROTICH",
          "rating": 1122.0522685596206
         },
         {
          "date": "2017-06-08T00:00:00",
          "player_id": "Ferguson Cheruiyot ROTICH",
          "rating": 1084.7811842585768
         },
         {
          "date": "2017-07-01T00:00:00",
          "player_id": "Ferguson Cheruiyot ROTICH",
          "rating": 1097.301228491518
         },
         {
          "date": "2017-07-16T00:00:00",
          "player_id": "Ferguson Cheruiyot ROTICH",
          "rating": 1089.6629765266632
         },
         {
          "date": "2018-05-04T00:00:00",
          "player_id": "Ferguson Cheruiyot ROTICH",
          "rating": 1082.9029887029587
         },
         {
          "date": "2018-05-25T00:00:00",
          "player_id": "Ferguson Cheruiyot ROTICH",
          "rating": 1060.6014726264127
         },
         {
          "date": "2018-05-31T00:00:00",
          "player_id": "Ferguson Cheruiyot ROTICH",
          "rating": 1081.3639394020797
         },
         {
          "date": "2018-06-30T00:00:00",
          "player_id": "Ferguson Cheruiyot ROTICH",
          "rating": 1104.233655401959
         },
         {
          "date": "2018-08-18T00:00:00",
          "player_id": "Ferguson Cheruiyot ROTICH",
          "rating": 1107.9324510902325
         },
         {
          "date": "2018-08-31T00:00:00",
          "player_id": "Ferguson Cheruiyot ROTICH",
          "rating": 1111.857762228239
         },
         {
          "date": "2019-06-06T00:00:00",
          "player_id": "Ferguson Cheruiyot ROTICH",
          "rating": 1117.0009710325483
         },
         {
          "date": "2019-06-16T00:00:00",
          "player_id": "Ferguson Cheruiyot ROTICH",
          "rating": 1118.9145036471498
         },
         {
          "date": "2019-07-05T00:00:00",
          "player_id": "Ferguson Cheruiyot ROTICH",
          "rating": 1135.106435580138
         },
         {
          "date": "2019-07-12T00:00:00",
          "player_id": "Ferguson Cheruiyot ROTICH",
          "rating": 1151.1512450588384
         },
         {
          "date": "2019-07-20T00:00:00",
          "player_id": "Ferguson Cheruiyot ROTICH",
          "rating": 1170.1382805146109
         },
         {
          "date": "2019-08-29T00:00:00",
          "player_id": "Ferguson Cheruiyot ROTICH",
          "rating": 1145.9568601550895
         },
         {
          "date": "2020-08-14T00:00:00",
          "player_id": "Ferguson Cheruiyot ROTICH",
          "rating": 1119.342401150502
         },
         {
          "date": "2020-08-23T00:00:00",
          "player_id": "Ferguson Cheruiyot ROTICH",
          "rating": 1117.7789325726542
         },
         {
          "date": "2021-07-09T00:00:00",
          "player_id": "Ferguson Cheruiyot ROTICH",
          "rating": 1122.160011269724
         },
         {
          "date": "2021-08-21T00:00:00",
          "player_id": "Ferguson Cheruiyot ROTICH",
          "rating": 1135.7607421850846
         },
         {
          "date": "2021-08-26T00:00:00",
          "player_id": "Ferguson Cheruiyot ROTICH",
          "rating": 1140.7341221132983
         },
         {
          "date": "2021-08-28T00:00:00",
          "player_id": "Ferguson Cheruiyot ROTICH",
          "rating": 1151.6458492896393
         },
         {
          "date": "2021-09-03T00:00:00",
          "player_id": "Ferguson Cheruiyot ROTICH",
          "rating": 1167.4113600916305
         },
         {
          "date": "2021-09-09T00:00:00",
          "player_id": "Ferguson Cheruiyot ROTICH",
          "rating": 1178.764727681726
         },
         {
          "date": "2022-08-06T00:00:00",
          "player_id": "Ferguson Cheruiyot ROTICH",
          "rating": 1186.4953879759582
         },
         {
          "date": "2022-09-02T00:00:00",
          "player_id": "Ferguson Cheruiyot ROTICH",
          "rating": 1158.9200219670695
         },
         {
          "date": "2013-07-19T00:00:00",
          "player_id": "Jeremiah Kipkorir MUTAI",
          "rating": 971.8485340370723
         },
         {
          "date": "2014-05-09T00:00:00",
          "player_id": "Jeremiah Kipkorir MUTAI",
          "rating": 975.0424498121744
         },
         {
          "date": "2014-05-18T00:00:00",
          "player_id": "Jeremiah Kipkorir MUTAI",
          "rating": 986.9234576381144
         },
         {
          "date": "2014-07-12T00:00:00",
          "player_id": "Jeremiah Kipkorir MUTAI",
          "rating": 967.6496579161051
         },
         {
          "date": "2015-05-15T00:00:00",
          "player_id": "Jeremiah Kipkorir MUTAI",
          "rating": 958.3931608462898
         },
         {
          "date": "2015-06-07T00:00:00",
          "player_id": "Jeremiah Kipkorir MUTAI",
          "rating": 954.379239300182
         },
         {
          "date": "2013-07-26T00:00:00",
          "player_id": "Mark ENGLISH",
          "rating": 999.6191679013141
         },
         {
          "date": "2015-06-13T00:00:00",
          "player_id": "Mark ENGLISH",
          "rating": 987.5962222191408
         },
         {
          "date": "2015-07-25T00:00:00",
          "player_id": "Mark ENGLISH",
          "rating": 1001.4796013849409
         },
         {
          "date": "2016-07-22T00:00:00",
          "player_id": "Mark ENGLISH",
          "rating": 982.7812787603175
         },
         {
          "date": "2017-06-18T00:00:00",
          "player_id": "Mark ENGLISH",
          "rating": 1002.7502563812711
         },
         {
          "date": "2017-07-09T00:00:00",
          "player_id": "Mark ENGLISH",
          "rating": 974.5454134332783
         },
         {
          "date": "2019-08-18T00:00:00",
          "player_id": "Mark ENGLISH",
          "rating": 1002.8356115831903
         },
         {
          "date": "2013-07-26T00:00:00",
          "player_id": "Joe ABBOTT",
          "rating": 993.8009860831322
         },
         {
          "date": "2014-05-18T00:00:00",
          "player_id": "Robert BIWOTT",
          "rating": 1028.8065266644032
         },
         {
          "date": "2014-07-05T00:00:00",
          "player_id": "Robert BIWOTT",
          "rating": 1012.0328694697394
         },
         {
          "date": "2016-05-14T00:00:00",
          "player_id": "Robert BIWOTT",
          "rating": 1034.1389040592337
         },
         {
          "date": "2017-05-13T00:00:00",
          "player_id": "Robert BIWOTT",
          "rating": 1057.9359327835646
         },
         {
          "date": "2017-07-01T00:00:00",
          "player_id": "Robert BIWOTT",
          "rating": 1066.463310047746
         },
         {
          "date": "2017-07-16T00:00:00",
          "player_id": "Robert BIWOTT",
          "rating": 1045.553656723758
         },
         {
          "date": "2014-05-18T00:00:00",
          "player_id": "Taoufik MAKHLOUFI",
          "rating": 1022.4065266644033
         },
         {
          "date": "2015-05-30T00:00:00",
          "player_id": "Taoufik MAKHLOUFI",
          "rating": 1037.7375148397105
         },
         {
          "date": "2015-09-03T00:00:00",
          "player_id": "Taoufik MAKHLOUFI",
          "rating": 1060.7036992594392
         },
         {
          "date": "2016-05-22T00:00:00",
          "player_id": "Taoufik MAKHLOUFI",
          "rating": 1077.0842340007266
         },
         {
          "date": "2016-08-27T00:00:00",
          "player_id": "Taoufik MAKHLOUFI",
          "rating": 1097.1165786824165
         },
         {
          "date": "2014-05-18T00:00:00",
          "player_id": "Ronald MUSAGALA",
          "rating": 996.8065266644032
         },
         {
          "date": "2014-05-18T00:00:00",
          "player_id": "Haining TENG",
          "rating": 984.0065266644032
         },
         {
          "date": "2014-06-05T00:00:00",
          "player_id": "Nader BELHANBEL",
          "rating": 989.321374190883
         },
         {
          "date": "2014-07-12T00:00:00",
          "player_id": "Matthew CENTROWITZ",
          "rating": 1008.0157477964789
         },
         {
          "date": "2015-06-13T00:00:00",
          "player_id": "Matthew CENTROWITZ",
          "rating": 1016.5829631667463
         },
         {
          "date": "2014-07-12T00:00:00",
          "player_id": "Wesley VÁZQUEZ",
          "rating": 993.7935255742566
         },
         {
          "date": "2016-05-28T00:00:00",
          "player_id": "Wesley VÁZQUEZ",
          "rating": 976.4391660547649
         },
         {
          "date": "2019-07-05T00:00:00",
          "player_id": "Wesley VÁZQUEZ",
          "rating": 973.1937744862242
         },
         {
          "date": "2019-07-12T00:00:00",
          "player_id": "Wesley VÁZQUEZ",
          "rating": 977.6250403130448
         },
         {
          "date": "2019-07-20T00:00:00",
          "player_id": "Wesley VÁZQUEZ",
          "rating": 988.2991563872943
         },
         {
          "date": "2019-08-24T00:00:00",
          "player_id": "Wesley VÁZQUEZ",
          "rating": 1011.8161680792177
         },
         {
          "date": "2020-08-23T00:00:00",
          "player_id": "Wesley VÁZQUEZ",
          "rating": 1012.4387834548633
         },
         {
          "date": "2021-08-31T00:00:00",
          "player_id": "Wesley VÁZQUEZ",
          "rating": 982.3872198755392
         },
         {
          "date": "2014-07-18T00:00:00",
          "player_id": "Alexander ROWE",
          "rating": 992.0127522027587
         },
         {
          "date": "2014-08-21T00:00:00",
          "player_id": "Adam KSZCZOT Leonel MANZANO",
          "rating": 1028.217169296002
         },
         {
          "date": "2014-08-21T00:00:00",
          "player_id": "Ayanleh SOULEIMAN Alfred KIPKETER",
          "rating": 1020.2171692960021
         },
         {
          "date": "2014-08-21T00:00:00",
          "player_id": "Marcin LEWANDOWSKI Musaeb Abdulrahman BALLA",
          "rating": 1012.2171692960021
         },
         {
          "date": "2014-08-21T00:00:00",
          "player_id": "Pierre-Ambroise BOSSE Johan ROGESTEDT",
          "rating": 1004.2171692960021
         },
         {
          "date": "2014-08-21T00:00:00",
          "player_id": "Andreas ALMGREN",
          "rating": 980.2171692960021
         },
         {
          "date": "2015-07-30T00:00:00",
          "player_id": "Andreas ALMGREN",
          "rating": 986.5743806704213
         },
         {
          "date": "2014-08-28T00:00:00",
          "player_id": "Ayanleh SOULEIMAN",
          "rating": 1028.4647736234006
         },
         {
          "date": "2015-05-15T00:00:00",
          "player_id": "Ayanleh SOULEIMAN",
          "rating": 1056.4535911935789
         },
         {
          "date": "2015-07-17T00:00:00",
          "player_id": "Ayanleh SOULEIMAN",
          "rating": 1073.4807044034537
         },
         {
          "date": "2016-08-27T00:00:00",
          "player_id": "Ayanleh SOULEIMAN",
          "rating": 1074.6374116644133
         },
         {
          "date": "2015-05-15T00:00:00",
          "player_id": "Alfred KIPKETER",
          "rating": 1016.3189309672197
         },
         {
          "date": "2015-05-30T00:00:00",
          "player_id": "Alfred KIPKETER",
          "rating": 1025.0902252809067
         },
         {
          "date": "2015-07-09T00:00:00",
          "player_id": "Alfred KIPKETER",
          "rating": 1035.0508831967736
         },
         {
          "date": "2015-07-17T00:00:00",
          "player_id": "Alfred KIPKETER",
          "rating": 1019.0975301840092
         },
         {
          "date": "2015-09-03T00:00:00",
          "player_id": "Alfred KIPKETER",
          "rating": 993.9262689058452
         },
         {
          "date": "2016-05-14T00:00:00",
          "player_id": "Alfred KIPKETER",
          "rating": 1010.5187924928424
         },
         {
          "date": "2016-07-15T00:00:00",
          "player_id": "Alfred KIPKETER",
          "rating": 1039.2990448407581
         },
         {
          "date": "2017-05-13T00:00:00",
          "player_id": "Alfred KIPKETER",
          "rating": 1041.3028837663114
         },
         {
          "date": "2017-06-08T00:00:00",
          "player_id": "Alfred KIPKETER",
          "rating": 1030.3518113861935
         },
         {
          "date": "2017-07-01T00:00:00",
          "player_id": "Alfred KIPKETER",
          "rating": 1002.9655890299479
         },
         {
          "date": "2018-06-30T00:00:00",
          "player_id": "Alfred KIPKETER",
          "rating": 1009.5936041202648
         },
         {
          "date": "2019-08-18T00:00:00",
          "player_id": "Alfred KIPKETER",
          "rating": 1028.3144877945117
         },
         {
          "date": "2015-05-30T00:00:00",
          "player_id": "Charles JOCK",
          "rating": 996.0216458439556
         },
         {
          "date": "2015-06-04T00:00:00",
          "player_id": "Artur KUCIAPSKI",
          "rating": 985.0856725779256
         },
         {
          "date": "2015-06-07T00:00:00",
          "player_id": "Kyle LANGFORD",
          "rating": 974.0050464137471
         },
         {
          "date": "2015-07-25T00:00:00",
          "player_id": "Kyle LANGFORD",
          "rating": 969.8473157454339
         },
         {
          "date": "2017-07-09T00:00:00",
          "player_id": "Kyle LANGFORD",
          "rating": 962.0177339267703
         },
         {
          "date": "2017-08-20T00:00:00",
          "player_id": "Kyle LANGFORD",
          "rating": 960.7035489022842
         },
         {
          "date": "2018-05-25T00:00:00",
          "player_id": "Kyle LANGFORD",
          "rating": 964.84943808712
         },
         {
          "date": "2019-07-20T00:00:00",
          "player_id": "Kyle LANGFORD",
          "rating": 953.3531988343225
         },
         {
          "date": "2020-08-14T00:00:00",
          "player_id": "Kyle LANGFORD",
          "rating": 962.6168705741352
         },
         {
          "date": "2022-08-06T00:00:00",
          "player_id": "Kyle LANGFORD",
          "rating": 952.5601117002109
         },
         {
          "date": "2015-06-13T00:00:00",
          "player_id": "Boris BERIAN",
          "rating": 1023.4989367685587
         },
         {
          "date": "2015-07-17T00:00:00",
          "player_id": "Boris BERIAN",
          "rating": 1037.6741228747935
         },
         {
          "date": "2015-07-25T00:00:00",
          "player_id": "Boris BERIAN",
          "rating": 1015.229108817937
         },
         {
          "date": "2016-05-28T00:00:00",
          "player_id": "Boris BERIAN",
          "rating": 1043.9519581496997
         },
         {
          "date": "2015-07-17T00:00:00",
          "player_id": "Amel TUKA",
          "rating": 1033.7225626465638
         },
         {
          "date": "2016-05-22T00:00:00",
          "player_id": "Amel TUKA",
          "rating": 1041.83955725144
         },
         {
          "date": "2016-05-28T00:00:00",
          "player_id": "Amel TUKA",
          "rating": 1028.16950090329
         },
         {
          "date": "2017-07-01T00:00:00",
          "player_id": "Amel TUKA",
          "rating": 1032.9796862966016
         },
         {
          "date": "2017-07-21T00:00:00",
          "player_id": "Amel TUKA",
          "rating": 1025.378172524711
         },
         {
          "date": "2018-05-31T00:00:00",
          "player_id": "Amel TUKA",
          "rating": 1030.146330338186
         },
         {
          "date": "2019-05-30T00:00:00",
          "player_id": "Amel TUKA",
          "rating": 1054.0715703217588
         },
         {
          "date": "2019-07-05T00:00:00",
          "player_id": "Amel TUKA",
          "rating": 1050.3741623218582
         },
         {
          "date": "2019-07-12T00:00:00",
          "player_id": "Amel TUKA",
          "rating": 1067.351341137772
         },
         {
          "date": "2019-08-29T00:00:00",
          "player_id": "Amel TUKA",
          "rating": 1060.1711043237478
         },
         {
          "date": "2020-08-14T00:00:00",
          "player_id": "Amel TUKA",
          "rating": 1034.393490682961
         },
         {
          "date": "2020-08-23T00:00:00",
          "player_id": "Amel TUKA",
          "rating": 1011.6846079284718
         },
         {
          "date": "2021-07-09T00:00:00",
          "player_id": "Amel TUKA",
          "rating": 999.5410541216906
         },
         {
          "date": "2021-07-13T00:00:00",
          "player_id": "Amel TUKA",
          "rating": 972.2217516123849
         },
         {
          "date": "2021-08-26T00:00:00",
          "player_id": "Amel TUKA",
          "rating": 970.0119365295122
         },
         {
          "date": "2021-08-28T00:00:00",
          "player_id": "Amel TUKA",
          "rating": 960.1741060336401
         },
         {
          "date": "2021-09-09T00:00:00",
          "player_id": "Amel TUKA",
          "rating": 949.235410052075
         },
         {
          "date": "2022-06-05T00:00:00",
          "player_id": "Amel TUKA",
          "rating": 956.8756973984862
         },
         {
          "date": "2022-06-18T00:00:00",
          "player_id": "Amel TUKA",
          "rating": 930.7038003154727
         },
         {
          "date": "2015-07-25T00:00:00",
          "player_id": "Casimir LOXSOM",
          "rating": 974.417380473838
         },
         {
          "date": "2015-07-30T00:00:00",
          "player_id": "Kalle BERGLUND",
          "rating": 983.2149593547846
         },
         {
          "date": "2016-06-09T00:00:00",
          "player_id": "Kalle BERGLUND",
          "rating": 963.4334555425946
         },
         {
          "date": "2016-06-16T00:00:00",
          "player_id": "Kalle BERGLUND",
          "rating": 943.0191172443671
         },
         {
          "date": "2015-07-30T00:00:00",
          "player_id": "Abubaker Haydar ABDALLA",
          "rating": 968.9927371325624
         },
         {
          "date": "2016-05-06T00:00:00",
          "player_id": "Abubaker Haydar ABDALLA",
          "rating": 996.8713901834019
         },
         {
          "date": "2016-06-16T00:00:00",
          "player_id": "Abubaker Haydar ABDALLA",
          "rating": 997.6469822995982
         },
         {
          "date": "2019-05-03T00:00:00",
          "player_id": "Abubaker Haydar ABDALLA",
          "rating": 1014.090170849111
         },
         {
          "date": "2019-06-06T00:00:00",
          "player_id": "Abubaker Haydar ABDALLA",
          "rating": 989.4252821696439
         },
         {
          "date": "2019-08-24T00:00:00",
          "player_id": "Abubaker Haydar ABDALLA",
          "rating": 961.6398005530345
         },
         {
          "date": "2016-05-06T00:00:00",
          "player_id": "Nicholas Kiplangat KIPKOECH",
          "rating": 1012.2303367372901
         },
         {
          "date": "2016-07-15T00:00:00",
          "player_id": "Nicholas Kiplangat KIPKOECH",
          "rating": 991.0764782022441
         },
         {
          "date": "2016-08-27T00:00:00",
          "player_id": "Nicholas Kiplangat KIPKOECH",
          "rating": 967.6316522847443
         },
         {
          "date": "2017-06-08T00:00:00",
          "player_id": "Nicholas Kiplangat KIPKOECH",
          "rating": 956.9162661301831
         },
         {
          "date": "2017-07-16T00:00:00",
          "player_id": "Nicholas Kiplangat KIPKOECH",
          "rating": 953.5534635092636
         },
         {
          "date": "2018-05-04T00:00:00",
          "player_id": "Nicholas Kiplangat KIPKOECH",
          "rating": 973.1765297378128
         },
         {
          "date": "2016-05-06T00:00:00",
          "player_id": "Yassine HETHAT",
          "rating": 999.4303367372902
         },
         {
          "date": "2017-05-05T00:00:00",
          "player_id": "Yassine HETHAT",
          "rating": 998.4843058325808
         },
         {
          "date": "2016-05-06T00:00:00",
          "player_id": "Hamada MOHAMED",
          "rating": 986.6303367372901
         },
         {
          "date": "2016-05-06T00:00:00",
          "player_id": "Jamal HAIRANE",
          "rating": 973.8303367372902
         },
         {
          "date": "2017-05-05T00:00:00",
          "player_id": "Jamal HAIRANE",
          "rating": 962.4376323887277
         },
         {
          "date": "2018-05-04T00:00:00",
          "player_id": "Jamal HAIRANE",
          "rating": 945.7204254239488
         },
         {
          "date": "2019-05-03T00:00:00",
          "player_id": "Jamal HAIRANE",
          "rating": 931.6239300373825
         },
         {
          "date": "2016-05-14T00:00:00",
          "player_id": "Thijmen KUPERS",
          "rating": 1008.9460876026111
         },
         {
          "date": "2016-07-22T00:00:00",
          "player_id": "Thijmen KUPERS",
          "rating": 1003.808447782865
         },
         {
          "date": "2017-05-13T00:00:00",
          "player_id": "Thijmen KUPERS",
          "rating": 980.5062118614927
         },
         {
          "date": "2017-06-18T00:00:00",
          "player_id": "Thijmen KUPERS",
          "rating": 1009.8246768985564
         },
         {
          "date": "2017-07-01T00:00:00",
          "player_id": "Thijmen KUPERS",
          "rating": 997.0799250999914
         },
         {
          "date": "2016-05-14T00:00:00",
          "player_id": "Antoine GAKEME",
          "rating": 994.7238653803888
         },
         {
          "date": "2017-07-21T00:00:00",
          "player_id": "Antoine GAKEME",
          "rating": 1006.6059467187717
         },
         {
          "date": "2018-05-04T00:00:00",
          "player_id": "Antoine GAKEME",
          "rating": 993.0346462331383
         },
         {
          "date": "2018-05-12T00:00:00",
          "player_id": "Antoine GAKEME",
          "rating": 1003.2689520918392
         },
         {
          "date": "2016-05-14T00:00:00",
          "player_id": "Rynhardt VAN RENSBURG",
          "rating": 987.6127542692777
         },
         {
          "date": "2017-06-18T00:00:00",
          "player_id": "Rynhardt VAN RENSBURG",
          "rating": 997.9996386061099
         },
         {
          "date": "2018-05-12T00:00:00",
          "player_id": "Rynhardt VAN RENSBURG",
          "rating": 982.1805638649475
         },
         {
          "date": "2018-06-10T00:00:00",
          "player_id": "Rynhardt VAN RENSBURG",
          "rating": 991.8016177329026
         },
         {
          "date": "2016-05-22T00:00:00",
          "player_id": "Abdelati EL GUESSE",
          "rating": 989.7450329807621
         },
         {
          "date": "2022-06-05T00:00:00",
          "player_id": "Abdelati EL GUESSE",
          "rating": 986.9445201190157
         },
         {
          "date": "2016-06-09T00:00:00",
          "player_id": "Alberto MAMBA",
          "rating": 1000.0095328646615
         },
         {
          "date": "2016-07-15T00:00:00",
          "player_id": "Brandon MCBRIDE",
          "rating": 1008.4071022036587
         },
         {
          "date": "2016-07-22T00:00:00",
          "player_id": "Brandon MCBRIDE",
          "rating": 1031.761719888915
         },
         {
          "date": "2017-05-13T00:00:00",
          "player_id": "Brandon MCBRIDE",
          "rating": 1013.1036338482139
         },
         {
          "date": "2017-06-08T00:00:00",
          "player_id": "Brandon MCBRIDE",
          "rating": 1011.1094718363753
         },
         {
          "date": "2017-07-16T00:00:00",
          "player_id": "Brandon MCBRIDE",
          "rating": 1019.1083299665875
         },
         {
          "date": "2017-07-21T00:00:00",
          "player_id": "Brandon MCBRIDE",
          "rating": 1036.7644578282516
         },
         {
          "date": "2017-08-20T00:00:00",
          "player_id": "Brandon MCBRIDE",
          "rating": 1043.1341412052025
         },
         {
          "date": "2018-05-12T00:00:00",
          "player_id": "Brandon MCBRIDE",
          "rating": 1042.412531273058
         },
         {
          "date": "2018-05-31T00:00:00",
          "player_id": "Brandon MCBRIDE",
          "rating": 1052.0303573550966
         },
         {
          "date": "2018-07-20T00:00:00",
          "player_id": "Brandon MCBRIDE",
          "rating": 1073.550413614944
         },
         {
          "date": "2018-08-18T00:00:00",
          "player_id": "Brandon MCBRIDE",
          "rating": 1047.9410613000869
         },
         {
          "date": "2019-06-06T00:00:00",
          "player_id": "Brandon MCBRIDE",
          "rating": 1065.1002121253118
         },
         {
          "date": "2019-07-05T00:00:00",
          "player_id": "Brandon MCBRIDE",
          "rating": 1073.2190516575054
         },
         {
          "date": "2019-07-12T00:00:00",
          "player_id": "Brandon MCBRIDE",
          "rating": 1075.3924913005903
         },
         {
          "date": "2019-08-24T00:00:00",
          "player_id": "Brandon MCBRIDE",
          "rating": 1097.4748519114416
         },
         {
          "date": "2019-08-29T00:00:00",
          "player_id": "Brandon MCBRIDE",
          "rating": 1111.6680195644215
         },
         {
          "date": "2016-07-15T00:00:00",
          "player_id": "Jonathan KITILIT",
          "rating": 1001.2959910925476
         },
         {
          "date": "2016-08-27T00:00:00",
          "player_id": "Jonathan KITILIT",
          "rating": 1021.7485823096023
         },
         {
          "date": "2016-09-09T00:00:00",
          "player_id": "Jonathan KITILIT",
          "rating": 993.1152810506925
         },
         {
          "date": "2018-05-12T00:00:00",
          "player_id": "Jonathan KITILIT",
          "rating": 1016.1422252288243
         },
         {
          "date": "2018-05-31T00:00:00",
          "player_id": "Jonathan KITILIT",
          "rating": 1034.54836975791
         },
         {
          "date": "2018-06-30T00:00:00",
          "player_id": "Jonathan KITILIT",
          "rating": 1055.7701383543813
         },
         {
          "date": "2018-07-20T00:00:00",
          "player_id": "Jonathan KITILIT",
          "rating": 1055.6233291565156
         },
         {
          "date": "2018-08-18T00:00:00",
          "player_id": "Jonathan KITILIT",
          "rating": 1076.4088798096097
         },
         {
          "date": "2019-05-03T00:00:00",
          "player_id": "Jonathan KITILIT",
          "rating": 1080.1332252858801
         },
         {
          "date": "2019-06-16T00:00:00",
          "player_id": "Jonathan KITILIT",
          "rating": 1063.817322860495
         },
         {
          "date": "2019-07-12T00:00:00",
          "player_id": "Jonathan KITILIT",
          "rating": 1034.8148570541525
         },
         {
          "date": "2016-07-15T00:00:00",
          "player_id": "Samir DAHMANI",
          "rating": 987.0737688703255
         },
         {
          "date": "2016-08-27T00:00:00",
          "player_id": "Samir DAHMANI",
          "rating": 970.3802038585097
         },
         {
          "date": "2017-06-18T00:00:00",
          "player_id": "Samir DAHMANI",
          "rating": 964.0448550325149
         },
         {
          "date": "2017-07-01T00:00:00",
          "player_id": "Samir DAHMANI",
          "rating": 948.9152715470558
         },
         {
          "date": "2017-07-21T00:00:00",
          "player_id": "Samir DAHMANI",
          "rating": 932.9648861904126
         },
         {
          "date": "2016-07-15T00:00:00",
          "player_id": "Luke MATHEWS",
          "rating": 972.8515466481032
         },
         {
          "date": "2016-07-22T00:00:00",
          "player_id": "Charlie DA'VALL GRICE",
          "rating": 974.3214295527022
         },
         {
          "date": "2016-08-27T00:00:00",
          "player_id": "Alfred KIPKETER Abdessalem AYOUNI",
          "rating": 1033.367479034207
         },
         {
          "date": "2016-09-09T00:00:00",
          "player_id": "Adam KSZCZOT Willy Kiplimo TARBEI",
          "rating": 1029.3522683613153
         },
         {
          "date": "2016-09-09T00:00:00",
          "player_id": "Kipyegon BETT Samir DAHMANI",
          "rating": 1021.3522683613152
         },
         {
          "date": "2016-09-09T00:00:00",
          "player_id": "Amel TUKA Elliot GILES",
          "rating": 1013.3522683613152
         },
         {
          "date": "2016-09-09T00:00:00",
          "player_id": "Ferguson Cheruiyot ROTICH Michał ROZMYS",
          "rating": 1005.3522683613152
         },
         {
          "date": "2016-09-09T00:00:00",
          "player_id": "Alfred KIPKETER Brecht BERTELS",
          "rating": 997.3522683613152
         },
         {
          "date": "2016-09-09T00:00:00",
          "player_id": "Clayton MURPHY",
          "rating": 981.3522683613152
         },
         {
          "date": "2018-05-04T00:00:00",
          "player_id": "Clayton MURPHY",
          "rating": 977.1692439816313
         },
         {
          "date": "2018-05-12T00:00:00",
          "player_id": "Clayton MURPHY",
          "rating": 976.049734433513
         },
         {
          "date": "2018-07-22T00:00:00",
          "player_id": "Clayton MURPHY",
          "rating": 1002.9314422209966
         },
         {
          "date": "2018-08-18T00:00:00",
          "player_id": "Clayton MURPHY",
          "rating": 977.2149665291499
         },
         {
          "date": "2018-08-31T00:00:00",
          "player_id": "Clayton MURPHY",
          "rating": 974.4651409116269
         },
         {
          "date": "2019-06-06T00:00:00",
          "player_id": "Clayton MURPHY",
          "rating": 985.199442381181
         },
         {
          "date": "2019-06-16T00:00:00",
          "player_id": "Clayton MURPHY",
          "rating": 1005.4013401144067
         },
         {
          "date": "2019-07-05T00:00:00",
          "player_id": "Clayton MURPHY",
          "rating": 1012.4331575737768
         },
         {
          "date": "2019-08-24T00:00:00",
          "player_id": "Clayton MURPHY",
          "rating": 1014.5520756165567
         },
         {
          "date": "2019-08-29T00:00:00",
          "player_id": "Clayton MURPHY",
          "rating": 1019.8122566143595
         },
         {
          "date": "2021-07-09T00:00:00",
          "player_id": "Clayton MURPHY",
          "rating": 1013.3727475814958
         },
         {
          "date": "2021-07-13T00:00:00",
          "player_id": "Clayton MURPHY",
          "rating": 1006.1234476542612
         },
         {
          "date": "2021-08-21T00:00:00",
          "player_id": "Clayton MURPHY",
          "rating": 1005.9834015669024
         },
         {
          "date": "2021-08-26T00:00:00",
          "player_id": "Clayton MURPHY",
          "rating": 1007.9279388056741
         },
         {
          "date": "2021-08-28T00:00:00",
          "player_id": "Clayton MURPHY",
          "rating": 980.5105819793881
         },
         {
          "date": "2021-09-09T00:00:00",
          "player_id": "Clayton MURPHY",
          "rating": 999.9011420684654
         },
         {
          "date": "2022-05-21T00:00:00",
          "player_id": "Clayton MURPHY",
          "rating": 986.7290883904213
         },
         {
          "date": "2022-08-06T00:00:00",
          "player_id": "Clayton MURPHY",
          "rating": 967.4893331756764
         },
         {
          "date": "2017-05-05T00:00:00",
          "player_id": "Mohamed Amine BELFERAR",
          "rating": 1024.601623670251
         },
         {
          "date": "2017-05-05T00:00:00",
          "player_id": "Mostafa SMAILI",
          "rating": 1011.8016236702509
         },
         {
          "date": "2017-07-16T00:00:00",
          "player_id": "Mostafa SMAILI",
          "rating": 987.7397344825795
         },
         {
          "date": "2019-06-16T00:00:00",
          "player_id": "Mostafa SMAILI",
          "rating": 972.1742621043262
         },
         {
          "date": "2019-08-24T00:00:00",
          "player_id": "Mostafa SMAILI",
          "rating": 965.1553677129398
         },
         {
          "date": "2022-06-05T00:00:00",
          "player_id": "Mostafa SMAILI",
          "rating": 957.2774688240252
         },
         {
          "date": "2017-05-13T00:00:00",
          "player_id": "Kipyegon BETT",
          "rating": 1033.9189117578362
         },
         {
          "date": "2017-06-08T00:00:00",
          "player_id": "Kipyegon BETT",
          "rating": 1055.6369798566882
         },
         {
          "date": "2017-07-01T00:00:00",
          "player_id": "Kipyegon BETT",
          "rating": 1077.1714799656488
         },
         {
          "date": "2017-07-16T00:00:00",
          "player_id": "Kipyegon BETT",
          "rating": 1095.31071957005
         },
         {
          "date": "2018-05-25T00:00:00",
          "player_id": "Kipyegon BETT",
          "rating": 1095.9392774395699
         },
         {
          "date": "2018-05-31T00:00:00",
          "player_id": "Kipyegon BETT",
          "rating": 1075.1179916905185
         },
         {
          "date": "2017-06-08T00:00:00",
          "player_id": "Donavan BRAZIER",
          "rating": 1018.3909546710623
         },
         {
          "date": "2017-07-09T00:00:00",
          "player_id": "Donavan BRAZIER",
          "rating": 1041.1545689339503
         },
         {
          "date": "2017-07-16T00:00:00",
          "player_id": "Donavan BRAZIER",
          "rating": 1054.4969231915318
         },
         {
          "date": "2019-05-03T00:00:00",
          "player_id": "Donavan BRAZIER",
          "rating": 1071.7823264592428
         },
         {
          "date": "2019-06-06T00:00:00",
          "player_id": "Donavan BRAZIER",
          "rating": 1099.6342412109932
         },
         {
          "date": "2019-08-29T00:00:00",
          "player_id": "Donavan BRAZIER",
          "rating": 1129.6377143565817
         },
         {
          "date": "2020-08-14T00:00:00",
          "player_id": "Donavan BRAZIER",
          "rating": 1149.1365663413826
         },
         {
          "date": "2020-08-23T00:00:00",
          "player_id": "Donavan BRAZIER",
          "rating": 1166.5181082569522
         },
         {
          "date": "2017-06-08T00:00:00",
          "player_id": "Elijah Motonei MANANGOI",
          "rating": 1011.9909546710624
         },
         {
          "date": "2018-05-04T00:00:00",
          "player_id": "Elijah Motonei MANANGOI",
          "rating": 1033.4880776965294
         },
         {
          "date": "2018-08-18T00:00:00",
          "player_id": "Elijah Motonei MANANGOI",
          "rating": 1049.8514770639983
         },
         {
          "date": "2017-06-18T00:00:00",
          "player_id": "Andreas KRAMER",
          "rating": 981.8305509062255
         },
         {
          "date": "2019-05-30T00:00:00",
          "player_id": "Andreas KRAMER",
          "rating": 982.6593078146063
         },
         {
          "date": "2019-06-06T00:00:00",
          "player_id": "Andreas KRAMER",
          "rating": 967.1015840346208
         },
         {
          "date": "2019-06-13T00:00:00",
          "player_id": "Andreas KRAMER",
          "rating": 969.6272593219195
         },
         {
          "date": "2019-06-16T00:00:00",
          "player_id": "Andreas KRAMER",
          "rating": 969.7834177695843
         },
         {
          "date": "2019-07-20T00:00:00",
          "player_id": "Andreas KRAMER",
          "rating": 946.2265342698428
         },
         {
          "date": "2019-08-18T00:00:00",
          "player_id": "Andreas KRAMER",
          "rating": 925.8869795770086
         },
         {
          "date": "2019-08-24T00:00:00",
          "player_id": "Andreas KRAMER",
          "rating": 916.591338797259
         },
         {
          "date": "2020-08-23T00:00:00",
          "player_id": "Andreas KRAMER",
          "rating": 939.6521509084038
         },
         {
          "date": "2021-08-21T00:00:00",
          "player_id": "Andreas KRAMER",
          "rating": 928.6722499958156
         },
         {
          "date": "2022-06-18T00:00:00",
          "player_id": "Andreas KRAMER",
          "rating": 924.2372635502115
         },
         {
          "date": "2022-09-08T00:00:00",
          "player_id": "Andreas KRAMER",
          "rating": 915.8884678011383
         },
         {
          "date": "2017-06-18T00:00:00",
          "player_id": "Filip INGEBRIGTSEN",
          "rating": 972.6876937633684
         },
         {
          "date": "2017-07-09T00:00:00",
          "player_id": "Elliot GILES",
          "rating": 1006.9494661504042
         },
         {
          "date": "2017-07-21T00:00:00",
          "player_id": "Elliot GILES",
          "rating": 977.7140550385166
         },
         {
          "date": "2017-08-20T00:00:00",
          "player_id": "Elliot GILES",
          "rating": 982.1572743017238
         },
         {
          "date": "2018-07-22T00:00:00",
          "player_id": "Elliot GILES",
          "rating": 967.7848563157723
         },
         {
          "date": "2019-07-20T00:00:00",
          "player_id": "Elliot GILES",
          "rating": 950.2182468103827
         },
         {
          "date": "2019-08-18T00:00:00",
          "player_id": "Elliot GILES",
          "rating": 967.9172740843055
         },
         {
          "date": "2021-07-09T00:00:00",
          "player_id": "Elliot GILES",
          "rating": 978.6560168228843
         },
         {
          "date": "2021-08-21T00:00:00",
          "player_id": "Elliot GILES",
          "rating": 988.9123557479893
         },
         {
          "date": "2021-08-28T00:00:00",
          "player_id": "Elliot GILES",
          "rating": 991.6301303781278
         },
         {
          "date": "2021-08-31T00:00:00",
          "player_id": "Elliot GILES",
          "rating": 1009.1749939523875
         },
         {
          "date": "2021-09-09T00:00:00",
          "player_id": "Elliot GILES",
          "rating": 1010.1426993998175
         },
         {
          "date": "2022-06-18T00:00:00",
          "player_id": "Elliot GILES",
          "rating": 985.5139661837957
         },
         {
          "date": "2017-07-09T00:00:00",
          "player_id": "Jake WIGHTMAN",
          "rating": 995.3131025140405
         },
         {
          "date": "2018-07-22T00:00:00",
          "player_id": "Jake WIGHTMAN",
          "rating": 1003.074223698886
         },
         {
          "date": "2018-08-18T00:00:00",
          "player_id": "Jake WIGHTMAN",
          "rating": 996.5451163699507
         },
         {
          "date": "2018-08-31T00:00:00",
          "player_id": "Jake WIGHTMAN",
          "rating": 1001.253072486886
         },
         {
          "date": "2019-07-12T00:00:00",
          "player_id": "Jake WIGHTMAN",
          "rating": 990.5065406388775
         },
         {
          "date": "2021-08-31T00:00:00",
          "player_id": "Jake WIGHTMAN",
          "rating": 999.0104174459113
         },
         {
          "date": "2022-05-21T00:00:00",
          "player_id": "Jake WIGHTMAN",
          "rating": 1007.2524955048658
         },
         {
          "date": "2022-09-02T00:00:00",
          "player_id": "Jake WIGHTMAN",
          "rating": 1039.7091561623054
         },
         {
          "date": "2022-09-08T00:00:00",
          "player_id": "Jake WIGHTMAN",
          "rating": 1048.955108349601
         },
         {
          "date": "2017-07-21T00:00:00",
          "player_id": "Emmanuel Kipkurui KORIR",
          "rating": 1027.399621232864
         },
         {
          "date": "2018-05-04T00:00:00",
          "player_id": "Emmanuel Kipkurui KORIR",
          "rating": 1054.6144365650757
         },
         {
          "date": "2018-05-25T00:00:00",
          "player_id": "Emmanuel Kipkurui KORIR",
          "rating": 1082.7676104179307
         },
         {
          "date": "2018-07-22T00:00:00",
          "player_id": "Emmanuel Kipkurui KORIR",
          "rating": 1106.2701857755196
         },
         {
          "date": "2018-08-18T00:00:00",
          "player_id": "Emmanuel Kipkurui KORIR",
          "rating": 1128.9927366572772
         },
         {
          "date": "2018-08-31T00:00:00",
          "player_id": "Emmanuel Kipkurui KORIR",
          "rating": 1149.38059997592
         },
         {
          "date": "2019-05-03T00:00:00",
          "player_id": "Emmanuel Kipkurui KORIR",
          "rating": 1164.3405260676222
         },
         {
          "date": "2019-06-16T00:00:00",
          "player_id": "Emmanuel Kipkurui KORIR",
          "rating": 1176.6435785562005
         },
         {
          "date": "2019-07-05T00:00:00",
          "player_id": "Emmanuel Kipkurui KORIR",
          "rating": 1181.6596826268049
         },
         {
          "date": "2019-07-20T00:00:00",
          "player_id": "Emmanuel Kipkurui KORIR",
          "rating": 1157.55738607979
         },
         {
          "date": "2019-08-29T00:00:00",
          "player_id": "Emmanuel Kipkurui KORIR",
          "rating": 1158.4690930120246
         },
         {
          "date": "2021-07-09T00:00:00",
          "player_id": "Emmanuel Kipkurui KORIR",
          "rating": 1172.3314614349986
         },
         {
          "date": "2021-08-21T00:00:00",
          "player_id": "Emmanuel Kipkurui KORIR",
          "rating": 1173.773724685893
         },
         {
          "date": "2021-08-26T00:00:00",
          "player_id": "Emmanuel Kipkurui KORIR",
          "rating": 1182.8810559043534
         },
         {
          "date": "2021-09-09T00:00:00",
          "player_id": "Emmanuel Kipkurui KORIR",
          "rating": 1200.9887594305042
         },
         {
          "date": "2022-06-05T00:00:00",
          "player_id": "Emmanuel Kipkurui KORIR",
          "rating": 1167.1075066766984
         },
         {
          "date": "2022-06-30T00:00:00",
          "player_id": "Emmanuel Kipkurui KORIR",
          "rating": 1145.2952721228855
         },
         {
          "date": "2022-08-06T00:00:00",
          "player_id": "Emmanuel Kipkurui KORIR",
          "rating": 1162.6036615964629
         },
         {
          "date": "2022-09-02T00:00:00",
          "player_id": "Emmanuel Kipkurui KORIR",
          "rating": 1168.9015553255258
         },
         {
          "date": "2022-09-08T00:00:00",
          "player_id": "Emmanuel Kipkurui KORIR",
          "rating": 1185.504963236805
         },
         {
          "date": "2017-07-21T00:00:00",
          "player_id": "Pierre-Ambroise BOSSE Drew WINDLE",
          "rating": 1003.3996212328641
         },
         {
          "date": "2018-05-04T00:00:00",
          "player_id": "Ebrahim ALZOFAIRI",
          "rating": 972.8036567215232
         },
         {
          "date": "2018-05-12T00:00:00",
          "player_id": "Wyclife Kinyamal KISASY",
          "rating": 1028.7982309387385
         },
         {
          "date": "2018-05-25T00:00:00",
          "player_id": "Wyclife Kinyamal KISASY",
          "rating": 1043.1914181436152
         },
         {
          "date": "2018-05-31T00:00:00",
          "player_id": "Wyclife Kinyamal KISASY",
          "rating": 1071.938298590007
         },
         {
          "date": "2018-07-22T00:00:00",
          "player_id": "Wyclife Kinyamal KISASY",
          "rating": 1084.7182686088938
         },
         {
          "date": "2018-08-31T00:00:00",
          "player_id": "Wyclife Kinyamal KISASY",
          "rating": 1063.2642978286856
         },
         {
          "date": "2019-05-03T00:00:00",
          "player_id": "Wyclife Kinyamal KISASY",
          "rating": 1050.687525050138
         },
         {
          "date": "2019-06-06T00:00:00",
          "player_id": "Wyclife Kinyamal KISASY",
          "rating": 1048.4039375674852
         },
         {
          "date": "2019-07-05T00:00:00",
          "player_id": "Wyclife Kinyamal KISASY",
          "rating": 1077.2125994782027
         },
         {
          "date": "2019-07-20T00:00:00",
          "player_id": "Wyclife Kinyamal KISASY",
          "rating": 1096.5794232253634
         },
         {
          "date": "2019-08-29T00:00:00",
          "player_id": "Wyclife Kinyamal KISASY",
          "rating": 1070.8512126348073
         },
         {
          "date": "2021-07-13T00:00:00",
          "player_id": "Wyclife Kinyamal KISASY",
          "rating": 1086.8444853286896
         },
         {
          "date": "2021-08-28T00:00:00",
          "player_id": "Wyclife Kinyamal KISASY",
          "rating": 1109.350069055952
         },
         {
          "date": "2021-09-09T00:00:00",
          "player_id": "Wyclife Kinyamal KISASY",
          "rating": 1077.5949075451804
         },
         {
          "date": "2022-05-21T00:00:00",
          "player_id": "Wyclife Kinyamal KISASY",
          "rating": 1064.5497849453322
         },
         {
          "date": "2022-09-02T00:00:00",
          "player_id": "Wyclife Kinyamal KISASY",
          "rating": 1059.9694508023692
         },
         {
          "date": "2022-09-08T00:00:00",
          "player_id": "Wyclife Kinyamal KISASY",
          "rating": 1058.2928631418363
         },
         {
          "date": "2018-05-12T00:00:00",
          "player_id": "Solomon LEKUTA",
          "rating": 977.5982309387384
         },
         {
          "date": "2018-05-12T00:00:00",
          "player_id": "Drew WINDLE",
          "rating": 971.1982309387383
         },
         {
          "date": "2018-05-31T00:00:00",
          "player_id": "Álvaro DE ARRIBA",
          "rating": 1000.6622043640734
         },
         {
          "date": "2019-05-03T00:00:00",
          "player_id": "Álvaro DE ARRIBA",
          "rating": 987.7538181117864
         },
         {
          "date": "2019-06-16T00:00:00",
          "player_id": "Álvaro DE ARRIBA",
          "rating": 993.5205034785545
         },
         {
          "date": "2021-07-13T00:00:00",
          "player_id": "Álvaro DE ARRIBA",
          "rating": 1002.3057883033384
         },
         {
          "date": "2018-06-07T00:00:00",
          "player_id": "Zak CURRAN",
          "rating": 981.7996480031095
         },
         {
          "date": "2018-06-10T00:00:00",
          "player_id": "Peter BOL",
          "rating": 1026.2694646703203
         },
         {
          "date": "2018-06-30T00:00:00",
          "player_id": "Peter BOL",
          "rating": 1001.6944799762523
         },
         {
          "date": "2018-07-20T00:00:00",
          "player_id": "Peter BOL",
          "rating": 977.9006770378669
         },
         {
          "date": "2019-05-30T00:00:00",
          "player_id": "Peter BOL",
          "rating": 960.7967146420226
         },
         {
          "date": "2020-08-14T00:00:00",
          "player_id": "Peter BOL",
          "rating": 956.6164355052086
         },
         {
          "date": "2020-08-23T00:00:00",
          "player_id": "Peter BOL",
          "rating": 947.856916038303
         },
         {
          "date": "2021-07-13T00:00:00",
          "player_id": "Peter BOL",
          "rating": 967.8632155141546
         },
         {
          "date": "2021-08-26T00:00:00",
          "player_id": "Peter BOL",
          "rating": 944.6972101398278
         },
         {
          "date": "2021-08-28T00:00:00",
          "player_id": "Peter BOL",
          "rating": 958.3881798819881
         },
         {
          "date": "2022-05-21T00:00:00",
          "player_id": "Peter BOL",
          "rating": 934.729343641937
         },
         {
          "date": "2022-06-18T00:00:00",
          "player_id": "Peter BOL",
          "rating": 961.7539528431845
         },
         {
          "date": "2018-06-10T00:00:00",
          "player_id": "Joseph DENG",
          "rating": 1017.1266075274632
         },
         {
          "date": "2018-06-30T00:00:00",
          "player_id": "Joseph DENG",
          "rating": 1016.652718706617
         },
         {
          "date": "2018-07-20T00:00:00",
          "player_id": "Joseph DENG",
          "rating": 1005.7641699128654
         },
         {
          "date": "2020-08-14T00:00:00",
          "player_id": "Joseph DENG",
          "rating": 978.4212219248284
         },
         {
          "date": "2018-06-10T00:00:00",
          "player_id": "Jamie WEBB",
          "rating": 998.840893241749
         },
         {
          "date": "2019-07-20T00:00:00",
          "player_id": "Jamie WEBB",
          "rating": 1001.8432514994329
         },
         {
          "date": "2019-08-18T00:00:00",
          "player_id": "Jamie WEBB",
          "rating": 1008.4610535835075
         },
         {
          "date": "2021-07-13T00:00:00",
          "player_id": "Jamie WEBB",
          "rating": 994.5494114400964
         },
         {
          "date": "2018-06-10T00:00:00",
          "player_id": "Elmar ENGHOLM",
          "rating": 971.4123218131775
         },
         {
          "date": "2018-06-30T00:00:00",
          "player_id": "Saúl ORDÓÑEZ",
          "rating": 1018.5330025535384
         },
         {
          "date": "2018-07-20T00:00:00",
          "player_id": "Saúl ORDÓÑEZ",
          "rating": 1035.92254371006
         },
         {
          "date": "2021-07-13T00:00:00",
          "player_id": "Saúl ORDÓÑEZ",
          "rating": 1012.3940616660462
         },
         {
          "date": "2018-06-30T00:00:00",
          "player_id": "Isaiah HARRIS",
          "rating": 1012.7148207353566
         },
         {
          "date": "2021-07-13T00:00:00",
          "player_id": "Isaiah HARRIS",
          "rating": 1041.0811902564842
         },
         {
          "date": "2021-08-21T00:00:00",
          "player_id": "Isaiah HARRIS",
          "rating": 1029.8343239162984
         },
         {
          "date": "2021-09-09T00:00:00",
          "player_id": "Isaiah HARRIS",
          "rating": 1021.0194379408291
         },
         {
          "date": "2018-06-30T00:00:00",
          "player_id": "Thiago ANDRÉ",
          "rating": 983.6239116444475
         },
         {
          "date": "2018-06-30T00:00:00",
          "player_id": "Marc REUTHER",
          "rating": 971.9875480080839
         },
         {
          "date": "2020-08-14T00:00:00",
          "player_id": "Marc REUTHER",
          "rating": 973.2312341923475
         },
         {
          "date": "2018-07-20T00:00:00",
          "player_id": "Cornelius TUWEI",
          "rating": 1011.9101049921321
         },
         {
          "date": "2019-05-03T00:00:00",
          "player_id": "Cornelius TUWEI",
          "rating": 1015.4792396343784
         },
         {
          "date": "2019-06-13T00:00:00",
          "player_id": "Cornelius TUWEI",
          "rating": 1031.8572567535075
         },
         {
          "date": "2019-07-20T00:00:00",
          "player_id": "Cornelius TUWEI",
          "rating": 1043.5798392520744
         },
         {
          "date": "2021-08-26T00:00:00",
          "player_id": "Cornelius TUWEI",
          "rating": 1027.979184916197
         },
         {
          "date": "2021-08-31T00:00:00",
          "player_id": "Cornelius TUWEI",
          "rating": 1023.9611094809541
         },
         {
          "date": "2021-09-03T00:00:00",
          "player_id": "Cornelius TUWEI",
          "rating": 1029.3713548069452
         },
         {
          "date": "2018-07-22T00:00:00",
          "player_id": "Daniel ROWDEN",
          "rating": 989.8997097455319
         },
         {
          "date": "2022-05-21T00:00:00",
          "player_id": "Daniel ROWDEN",
          "rating": 970.5228274684994
         },
         {
          "date": "2018-08-31T00:00:00",
          "player_id": "Eliott CRESTAN",
          "rating": 976.975168689672
         },
         {
          "date": "2021-08-31T00:00:00",
          "player_id": "Eliott CRESTAN",
          "rating": 968.4204190791396
         },
         {
          "date": "2021-09-03T00:00:00",
          "player_id": "Eliott CRESTAN",
          "rating": 989.4405862868541
         },
         {
          "date": "2022-09-02T00:00:00",
          "player_id": "Eliott CRESTAN",
          "rating": 1004.2412170412795
         },
         {
          "date": "2019-05-03T00:00:00",
          "player_id": "Rabi Mohamoud MUBARAK",
          "rating": 975.5125465306143
         },
         {
          "date": "2019-05-30T00:00:00",
          "player_id": "Ryan SÁNCHEZ",
          "rating": 1017.4808721174344
         },
         {
          "date": "2019-06-13T00:00:00",
          "player_id": "Ryan SÁNCHEZ",
          "rating": 1042.818716849029
         },
         {
          "date": "2019-05-30T00:00:00",
          "player_id": "Tshepo TSHITE",
          "rating": 971.7665864031487
         },
         {
          "date": "2019-06-13T00:00:00",
          "player_id": "Michał ROZMYS",
          "rating": 1008.6538881551407
         },
         {
          "date": "2019-06-13T00:00:00",
          "player_id": "Markus EINAN",
          "rating": 981.2253167265693
         },
         {
          "date": "2019-06-13T00:00:00",
          "player_id": "Andrés ARROYO",
          "rating": 972.0824595837122
         },
         {
          "date": "2019-07-12T00:00:00",
          "player_id": "Michael SARUNI",
          "rating": 1014.9610055877162
         },
         {
          "date": "2019-08-24T00:00:00",
          "player_id": "Michael SARUNI",
          "rating": 1029.6499202373343
         },
         {
          "date": "2021-08-21T00:00:00",
          "player_id": "Michael SARUNI",
          "rating": 1053.1489964789826
         },
         {
          "date": "2022-06-05T00:00:00",
          "player_id": "Michael SARUNI",
          "rating": 1023.6992300145344
         },
         {
          "date": "2019-08-18T00:00:00",
          "player_id": "Spencer THOMAS",
          "rating": 987.5839830387854
         },
         {
          "date": "2019-08-18T00:00:00",
          "player_id": "Thomas STAINES",
          "rating": 981.1839830387854
         },
         {
          "date": "2019-08-18T00:00:00",
          "player_id": "Max BURGIN",
          "rating": 968.3839830387855
         },
         {
          "date": "2020-08-23T00:00:00",
          "player_id": "Max BURGIN",
          "rating": 965.7163600358808
         },
         {
          "date": "2019-08-24T00:00:00",
          "player_id": "Collins KIPRUTO",
          "rating": 1009.6513479698764
         },
         {
          "date": "2021-09-03T00:00:00",
          "player_id": "Collins KIPRUTO",
          "rating": 984.3439580506646
         },
         {
          "date": "2022-06-05T00:00:00",
          "player_id": "Collins KIPRUTO",
          "rating": 996.2150389123653
         },
         {
          "date": "2022-06-30T00:00:00",
          "player_id": "Collins KIPRUTO",
          "rating": 970.6358974814809
         },
         {
          "date": "2022-09-02T00:00:00",
          "player_id": "Collins KIPRUTO",
          "rating": 955.0419865331196
         },
         {
          "date": "2019-08-24T00:00:00",
          "player_id": "Gabriel TUAL",
          "rating": 977.6513479698764
         },
         {
          "date": "2021-07-09T00:00:00",
          "player_id": "Gabriel TUAL",
          "rating": 961.9833445180534
         },
         {
          "date": "2021-08-26T00:00:00",
          "player_id": "Gabriel TUAL",
          "rating": 974.8794774817522
         },
         {
          "date": "2021-08-28T00:00:00",
          "player_id": "Gabriel TUAL",
          "rating": 971.7253537416134
         },
         {
          "date": "2022-06-05T00:00:00",
          "player_id": "Gabriel TUAL",
          "rating": 991.7518407260723
         },
         {
          "date": "2022-06-18T00:00:00",
          "player_id": "Gabriel TUAL",
          "rating": 1000.799808457484
         },
         {
          "date": "2022-09-02T00:00:00",
          "player_id": "Gabriel TUAL",
          "rating": 976.2179745214718
         },
         {
          "date": "2022-09-08T00:00:00",
          "player_id": "Gabriel TUAL",
          "rating": 954.4199146922647
         },
         {
          "date": "2020-08-14T00:00:00",
          "player_id": "Bryce HOPPEL",
          "rating": 1024.3696966204493
         },
         {
          "date": "2021-07-13T00:00:00",
          "player_id": "Bryce HOPPEL",
          "rating": 1023.227196728769
         },
         {
          "date": "2021-08-21T00:00:00",
          "player_id": "Bryce HOPPEL",
          "rating": 997.5720821418171
         },
         {
          "date": "2022-05-21T00:00:00",
          "player_id": "Bryce HOPPEL",
          "rating": 1013.0557149503103
         },
         {
          "date": "2022-08-06T00:00:00",
          "player_id": "Bryce HOPPEL",
          "rating": 1005.760356453482
         },
         {
          "date": "2022-09-08T00:00:00",
          "player_id": "Bryce HOPPEL",
          "rating": 999.6968075798915
         },
         {
          "date": "2020-08-14T00:00:00",
          "player_id": "Marco AROP",
          "rating": 1017.9696966204493
         },
         {
          "date": "2020-08-23T00:00:00",
          "player_id": "Marco AROP",
          "rating": 1039.3807629256376
         },
         {
          "date": "2021-07-09T00:00:00",
          "player_id": "Marco AROP",
          "rating": 1056.8576615781965
         },
         {
          "date": "2021-08-21T00:00:00",
          "player_id": "Marco AROP",
          "rating": 1084.2015975104698
         },
         {
          "date": "2021-08-28T00:00:00",
          "player_id": "Marco AROP",
          "rating": 1092.7127610492626
         },
         {
          "date": "2021-09-09T00:00:00",
          "player_id": "Marco AROP",
          "rating": 1094.402167864315
         },
         {
          "date": "2022-05-21T00:00:00",
          "player_id": "Marco AROP",
          "rating": 1115.453070269806
         },
         {
          "date": "2022-09-02T00:00:00",
          "player_id": "Marco AROP",
          "rating": 1112.8541204194826
         },
         {
          "date": "2022-09-08T00:00:00",
          "player_id": "Marco AROP",
          "rating": 1124.8917524333115
         },
         {
          "date": "2020-08-14T00:00:00",
          "player_id": "Benjamin ROBERT",
          "rating": 1011.5696966204493
         },
         {
          "date": "2021-07-09T00:00:00",
          "player_id": "Benjamin ROBERT",
          "rating": 986.6359632355311
         },
         {
          "date": "2022-05-21T00:00:00",
          "player_id": "Benjamin ROBERT",
          "rating": 1010.2209108833462
         },
         {
          "date": "2022-06-18T00:00:00",
          "player_id": "Benjamin ROBERT",
          "rating": 1036.785066353618
         },
         {
          "date": "2020-08-23T00:00:00",
          "player_id": "Erik MARTINSSON",
          "rating": 973.223458094599
         },
         {
          "date": "2021-05-28T00:00:00",
          "player_id": "Wyclife Kinyamal KISASY Mohamed Ali GOUANED",
          "rating": 1028
         },
         {
          "date": "2021-05-28T00:00:00",
          "player_id": "Ferguson Cheruiyot ROTICH Moad ZAHAFI",
          "rating": 1020
         },
         {
          "date": "2021-05-28T00:00:00",
          "player_id": "Daniel ROWDEN Musaeb Abdulrahman BALLA",
          "rating": 1012
         },
         {
          "date": "2021-05-28T00:00:00",
          "player_id": "Amel TUKA Abdessalem AYOUNI",
          "rating": 1004
         },
         {
          "date": "2021-05-28T00:00:00",
          "player_id": "Adrián BEN Manuel OLMEDO",
          "rating": 996
         },
         {
          "date": "2021-05-28T00:00:00",
          "player_id": "Tshepo TSHITE Erik SOWINSKI",
          "rating": 988
         },
         {
          "date": "2021-05-28T00:00:00",
          "player_id": "Jamal HAIRANE Rabi Mohamoud MUBARAK",
          "rating": 980
         },
         {
          "date": "2021-05-28T00:00:00",
          "player_id": "Abdirahman Saeed HASSAN Ebrahim ALZOFAIRI",
          "rating": 972
         },
         {
          "date": "2021-07-04T00:00:00",
          "player_id": "Ferguson Cheruiyot ROTICH Jonathan KITILIT",
          "rating": 1027.4285714285713
         },
         {
          "date": "2021-07-04T00:00:00",
          "player_id": "Marco AROP Archie DAVIS",
          "rating": 1018.2857142857143
         },
         {
          "date": "2021-07-04T00:00:00",
          "player_id": "Elliot GILES Piers COPELAND",
          "rating": 1009.1428571428571
         },
         {
          "date": "2021-07-04T00:00:00",
          "player_id": "Adrián BEN Luke MCCANN",
          "rating": 1000
         },
         {
          "date": "2021-07-04T00:00:00",
          "player_id": "Isaiah HARRIS Jake HEYWARD",
          "rating": 990.8571428571429
         },
         {
          "date": "2021-07-04T00:00:00",
          "player_id": "Amel TUKA Joakim ANDERSSON",
          "rating": 981.7142857142857
         },
         {
          "date": "2021-07-04T00:00:00",
          "player_id": "Andreas KRAMER John FITZSIMONS",
          "rating": 972.5714285714286
         },
         {
          "date": "2021-07-09T00:00:00",
          "player_id": "Patryk DOBEK",
          "rating": 1001.651749878095
         },
         {
          "date": "2022-05-21T00:00:00",
          "player_id": "Patryk DOBEK",
          "rating": 1002.5430837523173
         },
         {
          "date": "2022-06-18T00:00:00",
          "player_id": "Patryk DOBEK",
          "rating": 985.0062704550684
         },
         {
          "date": "2022-08-06T00:00:00",
          "player_id": "Patryk DOBEK",
          "rating": 987.2485555351321
         },
         {
          "date": "2021-08-21T00:00:00",
          "player_id": "Piers COPELAND",
          "rating": 1015.5368728344017
         },
         {
          "date": "2021-08-21T00:00:00",
          "player_id": "Ben PATTISON",
          "rating": 1004.870206167735
         },
         {
          "date": "2021-08-21T00:00:00",
          "player_id": "Robert FARKEN",
          "rating": 994.2035395010683
         },
         {
          "date": "2021-08-21T00:00:00",
          "player_id": "Žan RUDOLF",
          "rating": 972.870206167735
         },
         {
          "date": "2021-08-21T00:00:00",
          "player_id": "Oliver DUSTIN",
          "rating": 984.398757990863
         },
         {
          "date": "2021-08-26T00:00:00",
          "player_id": "Marco AROP Thomas RANDOLPH",
          "rating": 1030.916435610855
         },
         {
          "date": "2021-08-26T00:00:00",
          "player_id": "Adrián BEN",
          "rating": 981.1386578330772
         },
         {
          "date": "2021-08-28T00:00:00",
          "player_id": "Adrián BEN",
          "rating": 963.2107500806796
         },
         {
          "date": "2022-06-30T00:00:00",
          "player_id": "Adrián BEN",
          "rating": 949.6990711762795
         },
         {
          "date": "2022-08-06T00:00:00",
          "player_id": "Adrián BEN",
          "rating": 962.0740032642091
         },
         {
          "date": "2021-08-31T00:00:00",
          "player_id": "Catalin TECUCEANU",
          "rating": 1025.9294096441229
         },
         {
          "date": "2021-09-03T00:00:00",
          "player_id": "Aurele VANDEPUTTE",
          "rating": 996.8890666250909
         },
         {
          "date": "2021-09-03T00:00:00",
          "player_id": "Moad ZAHAFI",
          "rating": 986.2223999584241
         },
         {
          "date": "2022-06-05T00:00:00",
          "player_id": "Emmanuel WANYONYI",
          "rating": 1031.898731680585
         },
         {
          "date": "2022-06-18T00:00:00",
          "player_id": "Tony VAN DIEPEN",
          "rating": 1014.6950736275047
         },
         {
          "date": "2022-08-06T00:00:00",
          "player_id": "Tony VAN DIEPEN",
          "rating": 1028.5911451637423
         },
         {
          "date": "2022-06-18T00:00:00",
          "player_id": "Mohamed Ali GOUANED",
          "rating": 1001.8950736275048
         },
         {
          "date": "2022-06-30T00:00:00",
          "player_id": "Slimane MOULA Ben PATTISON",
          "rating": 1028.94004943656
         },
         {
          "date": "2022-06-30T00:00:00",
          "player_id": "Benjamin ROBERT John FITZSIMONS",
          "rating": 1019.7971922937029
         },
         {
          "date": "2022-06-30T00:00:00",
          "player_id": "Gabriel TUAL Jye PERROTT",
          "rating": 1010.6543351508458
         },
         {
          "date": "2022-06-30T00:00:00",
          "player_id": "Andreas KRAMER Felix FRANCOIS",
          "rating": 1001.5114780079887
         },
         {
          "date": "2022-08-26T00:00:00",
          "player_id": "George MILLS",
          "rating": 1016
         },
         {
          "date": "2022-08-26T00:00:00",
          "player_id": "Tom ELMER",
          "rating": 984
         },
         {
          "date": "2022-09-02T00:00:00",
          "player_id": "Djamel SEDJATI",
          "rating": 1026.6876048728104
         },
         {
          "date": "2022-09-02T00:00:00",
          "player_id": "Mariano GARCÍA",
          "rating": 994.6876048728103
         }
        ]
       },
       "layer": [
        {
         "encoding": {
          "opacity": {
           "value": 0
          },
          "tooltip": [
           {
            "field": "player_id",
            "type": "nominal"
           },
           {
            "field": "rating",
            "type": "quantitative"
           }
          ],
          "x": {
           "axis": {
            "format": "%Y %B"
           },
           "field": "date",
           "type": "temporal"
          },
          "y": {
           "field": "rating",
           "scale": {
            "zero": false
           },
           "type": "quantitative"
          }
         },
         "height": 500,
         "mark": {
          "point": true,
          "type": "circle"
         },
         "selection": {
          "selector003": {
           "empty": "none",
           "fields": [
            "player_id"
           ],
           "nearest": true,
           "on": "mouseover",
           "type": "single"
          }
         },
         "width": 1350
        },
        {
         "encoding": {
          "color": {
           "condition": {
            "field": "player_id",
            "legend": null,
            "selection": "selector003",
            "type": "nominal"
           },
           "value": "lightgray"
          },
          "size": {
           "condition": {
            "selection": {
             "not": "selector003"
            },
            "value": 1
           },
           "value": 3
          },
          "tooltip": [
           {
            "field": "player_id",
            "type": "nominal"
           },
           {
            "field": "rating",
            "type": "quantitative"
           }
          ],
          "x": {
           "axis": {
            "format": "%Y %B"
           },
           "field": "date",
           "type": "temporal"
          },
          "y": {
           "field": "rating",
           "scale": {
            "zero": false
           },
           "type": "quantitative"
          }
         },
         "mark": "line"
        }
       ]
      },
      "text/plain": [
       "<VegaLite 4 object>\n",
       "\n",
       "If you see this message, it means the renderer has not been properly enabled\n",
       "for the frontend that you are using. For more information, see\n",
       "https://altair-viz.github.io/user_guide/troubleshooting.html\n"
      ]
     },
     "execution_count": 12,
     "metadata": {},
     "output_type": "execute_result"
    }
   ],
   "source": [
    "#Plotting the result\n",
    "\n",
    "alt.renderers.enable('mimetype')\n",
    "\n",
    "df_historical_rating = tracker.get_history_df()\n",
    "\n",
    "highlight = alt.selection(type='single', on='mouseover', \n",
    "                          fields=['player_id'], nearest=True, empty=\"none\")\n",
    "\n",
    "base = alt.Chart(df_historical_rating\n",
    ").encode(\n",
    "    x=alt.X(\"date:T\", axis=alt.Axis(format='%Y %B')),\n",
    "    y=alt.Y(\"rating:Q\", scale=alt.Scale(zero=False)),\n",
    "    #color=\"player_id:N\",\n",
    "    tooltip = [\"player_id\",\"rating\"]\n",
    ")\n",
    "\n",
    "points = base.mark_circle(point=True).encode(\n",
    "    opacity=alt.value(0)\n",
    ").add_selection(\n",
    "    highlight\n",
    ").properties(\n",
    "    width=1350,\n",
    "    height=500\n",
    ")\n",
    "\n",
    "lines = base.mark_line().encode(\n",
    "    size=alt.condition(~highlight, alt.value(1), alt.value(3)),\n",
    "    color=alt.condition(highlight, 'player_id', alt.value(\"lightgray\"), legend=None)\n",
    ")\n",
    "\n",
    "alt.layer(points, lines).configure_axis(\n",
    "    grid=False\n",
    ").configure_view(\n",
    "    strokeWidth=0\n",
    ")"
   ]
  },
  {
   "cell_type": "code",
   "execution_count": null,
   "metadata": {},
   "outputs": [],
   "source": []
  }
 ],
 "metadata": {
  "kernelspec": {
   "display_name": "Python 3.9.7 ('base')",
   "language": "python",
   "name": "python3"
  },
  "language_info": {
   "codemirror_mode": {
    "name": "ipython",
    "version": 3
   },
   "file_extension": ".py",
   "mimetype": "text/x-python",
   "name": "python",
   "nbconvert_exporter": "python",
   "pygments_lexer": "ipython3",
   "version": "3.9.7"
  },
  "orig_nbformat": 4,
  "vscode": {
   "interpreter": {
    "hash": "6123492d9474a61235376e47f79b28911591e0a64e99e0a859a372eae06b4db3"
   }
  }
 },
 "nbformat": 4,
 "nbformat_minor": 2
}
